{
 "cells": [
  {
   "cell_type": "code",
   "execution_count": 8,
   "id": "00c566bb",
   "metadata": {
    "ExecuteTime": {
     "end_time": "2022-11-13T06:04:10.572214Z",
     "start_time": "2022-11-13T06:04:10.562985Z"
    }
   },
   "outputs": [],
   "source": [
    "import pandas as pd\n",
    "import numpy as np\n",
    "\n",
    "import matplotlib\n",
    "import matplotlib.pyplot as plt\n",
    "import seaborn as sns\n",
    "%matplotlib inline\n",
    "\n",
    "from datetime import datetime"
   ]
  },
  {
   "cell_type": "code",
   "execution_count": 42,
   "id": "84bd82d1",
   "metadata": {
    "ExecuteTime": {
     "end_time": "2022-11-13T06:23:57.657657Z",
     "start_time": "2022-11-13T06:23:56.595595Z"
    }
   },
   "outputs": [
    {
     "data": {
      "text/html": [
       "<div>\n",
       "<style scoped>\n",
       "    .dataframe tbody tr th:only-of-type {\n",
       "        vertical-align: middle;\n",
       "    }\n",
       "\n",
       "    .dataframe tbody tr th {\n",
       "        vertical-align: top;\n",
       "    }\n",
       "\n",
       "    .dataframe thead th {\n",
       "        text-align: right;\n",
       "    }\n",
       "</style>\n",
       "<table border=\"1\" class=\"dataframe\">\n",
       "  <thead>\n",
       "    <tr style=\"text-align: right;\">\n",
       "      <th></th>\n",
       "      <th>lot_id</th>\n",
       "      <th>tray_id</th>\n",
       "      <th>dt_start</th>\n",
       "      <th>cell_id</th>\n",
       "      <th>rta1_tat</th>\n",
       "      <th>hta1_tat</th>\n",
       "      <th>rta2_tat</th>\n",
       "      <th>ocv1_tat</th>\n",
       "      <th>c1_tat</th>\n",
       "      <th>dc1_tat</th>\n",
       "      <th>...</th>\n",
       "      <th>sa3_box_row</th>\n",
       "      <th>sa3_box_dan</th>\n",
       "      <th>socv3_ocv</th>\n",
       "      <th>ocv2_deltaocv</th>\n",
       "      <th>ocv1_deltaocv</th>\n",
       "      <th>m1_thick</th>\n",
       "      <th>m1_voltage</th>\n",
       "      <th>m1_res_ac</th>\n",
       "      <th>m1_mv</th>\n",
       "      <th>m1_voltage_an</th>\n",
       "    </tr>\n",
       "  </thead>\n",
       "  <tbody>\n",
       "    <tr>\n",
       "      <th>0</th>\n",
       "      <td>LOT-100</td>\n",
       "      <td>TRAY-1023</td>\n",
       "      <td>12-01-2021 오전 10:01:25</td>\n",
       "      <td>CELL-10747</td>\n",
       "      <td>217066</td>\n",
       "      <td>86461</td>\n",
       "      <td>5732</td>\n",
       "      <td>119</td>\n",
       "      <td>3556</td>\n",
       "      <td>404</td>\n",
       "      <td>...</td>\n",
       "      <td>37연</td>\n",
       "      <td>04단</td>\n",
       "      <td>3759.3</td>\n",
       "      <td>5</td>\n",
       "      <td>6.8</td>\n",
       "      <td>4718</td>\n",
       "      <td>37583</td>\n",
       "      <td>94</td>\n",
       "      <td>565</td>\n",
       "      <td>164</td>\n",
       "    </tr>\n",
       "    <tr>\n",
       "      <th>1</th>\n",
       "      <td>LOT-100</td>\n",
       "      <td>TRAY-1023</td>\n",
       "      <td>12-01-2021 오전 10:01:25</td>\n",
       "      <td>CELL-10748</td>\n",
       "      <td>217066</td>\n",
       "      <td>86461</td>\n",
       "      <td>5732</td>\n",
       "      <td>119</td>\n",
       "      <td>3556</td>\n",
       "      <td>404</td>\n",
       "      <td>...</td>\n",
       "      <td>37연</td>\n",
       "      <td>04단</td>\n",
       "      <td>3758.4</td>\n",
       "      <td>5</td>\n",
       "      <td>6.8</td>\n",
       "      <td>4718</td>\n",
       "      <td>37574</td>\n",
       "      <td>94</td>\n",
       "      <td>565</td>\n",
       "      <td>73</td>\n",
       "    </tr>\n",
       "    <tr>\n",
       "      <th>2</th>\n",
       "      <td>LOT-100</td>\n",
       "      <td>TRAY-1023</td>\n",
       "      <td>12-01-2021 오전 10:01:25</td>\n",
       "      <td>CELL-10749</td>\n",
       "      <td>217066</td>\n",
       "      <td>86461</td>\n",
       "      <td>5732</td>\n",
       "      <td>118</td>\n",
       "      <td>3556</td>\n",
       "      <td>405</td>\n",
       "      <td>...</td>\n",
       "      <td>37연</td>\n",
       "      <td>04단</td>\n",
       "      <td>3759</td>\n",
       "      <td>5.1</td>\n",
       "      <td>6.9</td>\n",
       "      <td>4700</td>\n",
       "      <td>37579</td>\n",
       "      <td>91</td>\n",
       "      <td>585</td>\n",
       "      <td>-57</td>\n",
       "    </tr>\n",
       "    <tr>\n",
       "      <th>3</th>\n",
       "      <td>LOT-100</td>\n",
       "      <td>TRAY-1023</td>\n",
       "      <td>12-01-2021 오전 10:01:25</td>\n",
       "      <td>CELL-10750</td>\n",
       "      <td>217066</td>\n",
       "      <td>86461</td>\n",
       "      <td>5732</td>\n",
       "      <td>118</td>\n",
       "      <td>3556</td>\n",
       "      <td>405</td>\n",
       "      <td>...</td>\n",
       "      <td>37연</td>\n",
       "      <td>04단</td>\n",
       "      <td>3759.5</td>\n",
       "      <td>5.1</td>\n",
       "      <td>6.9</td>\n",
       "      <td>4688</td>\n",
       "      <td>37583</td>\n",
       "      <td>93</td>\n",
       "      <td>606</td>\n",
       "      <td>99</td>\n",
       "    </tr>\n",
       "    <tr>\n",
       "      <th>4</th>\n",
       "      <td>LOT-100</td>\n",
       "      <td>TRAY-1023</td>\n",
       "      <td>12-01-2021 오전 10:01:25</td>\n",
       "      <td>CELL-10751</td>\n",
       "      <td>217066</td>\n",
       "      <td>86461</td>\n",
       "      <td>5732</td>\n",
       "      <td>119</td>\n",
       "      <td>3556</td>\n",
       "      <td>404</td>\n",
       "      <td>...</td>\n",
       "      <td>37연</td>\n",
       "      <td>04단</td>\n",
       "      <td>3758.2</td>\n",
       "      <td>5</td>\n",
       "      <td>6.8</td>\n",
       "      <td>4696</td>\n",
       "      <td>37570</td>\n",
       "      <td>91</td>\n",
       "      <td>605</td>\n",
       "      <td>36</td>\n",
       "    </tr>\n",
       "  </tbody>\n",
       "</table>\n",
       "<p>5 rows × 130 columns</p>\n",
       "</div>"
      ],
      "text/plain": [
       "    lot_id    tray_id                dt_start     cell_id  rta1_tat  hta1_tat  \\\n",
       "0  LOT-100  TRAY-1023  12-01-2021 오전 10:01:25  CELL-10747    217066     86461   \n",
       "1  LOT-100  TRAY-1023  12-01-2021 오전 10:01:25  CELL-10748    217066     86461   \n",
       "2  LOT-100  TRAY-1023  12-01-2021 오전 10:01:25  CELL-10749    217066     86461   \n",
       "3  LOT-100  TRAY-1023  12-01-2021 오전 10:01:25  CELL-10750    217066     86461   \n",
       "4  LOT-100  TRAY-1023  12-01-2021 오전 10:01:25  CELL-10751    217066     86461   \n",
       "\n",
       "   rta2_tat  ocv1_tat  c1_tat  dc1_tat  ...  sa3_box_row  sa3_box_dan  \\\n",
       "0      5732       119    3556      404  ...          37연          04단   \n",
       "1      5732       119    3556      404  ...          37연          04단   \n",
       "2      5732       118    3556      405  ...          37연          04단   \n",
       "3      5732       118    3556      405  ...          37연          04단   \n",
       "4      5732       119    3556      404  ...          37연          04단   \n",
       "\n",
       "   socv3_ocv  ocv2_deltaocv  ocv1_deltaocv  m1_thick  m1_voltage  m1_res_ac  \\\n",
       "0     3759.3              5            6.8      4718       37583         94   \n",
       "1     3758.4              5            6.8      4718       37574         94   \n",
       "2       3759            5.1            6.9      4700       37579         91   \n",
       "3     3759.5            5.1            6.9      4688       37583         93   \n",
       "4     3758.2              5            6.8      4696       37570         91   \n",
       "\n",
       "   m1_mv  m1_voltage_an  \n",
       "0    565            164  \n",
       "1    565             73  \n",
       "2    585            -57  \n",
       "3    606             99  \n",
       "4    605             36  \n",
       "\n",
       "[5 rows x 130 columns]"
      ]
     },
     "execution_count": 42,
     "metadata": {},
     "output_type": "execute_result"
    }
   ],
   "source": [
    "df_raw = pd.read_csv(\"/home/piai/aibd/bd_project/data/df_raw.csv\", encoding='euc-kr', index_col=0, low_memory=False)\n",
    "df_raw.head()"
   ]
  },
  {
   "cell_type": "markdown",
   "id": "cc0a745a",
   "metadata": {},
   "source": [
    "# 출하 전 동일한 장소에서 진행하는 작업BOX_열/단 병합"
   ]
  },
  {
   "cell_type": "code",
   "execution_count": 44,
   "id": "52555688",
   "metadata": {
    "ExecuteTime": {
     "end_time": "2022-11-13T06:24:08.722087Z",
     "start_time": "2022-11-13T06:24:08.702138Z"
    }
   },
   "outputs": [
    {
     "data": {
      "text/html": [
       "<div>\n",
       "<style scoped>\n",
       "    .dataframe tbody tr th:only-of-type {\n",
       "        vertical-align: middle;\n",
       "    }\n",
       "\n",
       "    .dataframe tbody tr th {\n",
       "        vertical-align: top;\n",
       "    }\n",
       "\n",
       "    .dataframe thead th {\n",
       "        text-align: right;\n",
       "    }\n",
       "</style>\n",
       "<table border=\"1\" class=\"dataframe\">\n",
       "  <thead>\n",
       "    <tr style=\"text-align: right;\">\n",
       "      <th></th>\n",
       "      <th>ocv1_box_col</th>\n",
       "      <th>c1_box_col</th>\n",
       "    </tr>\n",
       "  </thead>\n",
       "  <tbody>\n",
       "    <tr>\n",
       "      <th>0</th>\n",
       "      <td>22열</td>\n",
       "      <td>22열</td>\n",
       "    </tr>\n",
       "    <tr>\n",
       "      <th>1</th>\n",
       "      <td>22열</td>\n",
       "      <td>22열</td>\n",
       "    </tr>\n",
       "    <tr>\n",
       "      <th>2</th>\n",
       "      <td>22열</td>\n",
       "      <td>22열</td>\n",
       "    </tr>\n",
       "    <tr>\n",
       "      <th>3</th>\n",
       "      <td>22열</td>\n",
       "      <td>22열</td>\n",
       "    </tr>\n",
       "    <tr>\n",
       "      <th>4</th>\n",
       "      <td>22열</td>\n",
       "      <td>22열</td>\n",
       "    </tr>\n",
       "    <tr>\n",
       "      <th>...</th>\n",
       "      <td>...</td>\n",
       "      <td>...</td>\n",
       "    </tr>\n",
       "    <tr>\n",
       "      <th>43749</th>\n",
       "      <td>02열</td>\n",
       "      <td>02열</td>\n",
       "    </tr>\n",
       "    <tr>\n",
       "      <th>43750</th>\n",
       "      <td>02열</td>\n",
       "      <td>02열</td>\n",
       "    </tr>\n",
       "    <tr>\n",
       "      <th>43751</th>\n",
       "      <td>02열</td>\n",
       "      <td>02열</td>\n",
       "    </tr>\n",
       "    <tr>\n",
       "      <th>43752</th>\n",
       "      <td>02열</td>\n",
       "      <td>02열</td>\n",
       "    </tr>\n",
       "    <tr>\n",
       "      <th>43753</th>\n",
       "      <td>02열</td>\n",
       "      <td>02열</td>\n",
       "    </tr>\n",
       "  </tbody>\n",
       "</table>\n",
       "<p>43754 rows × 2 columns</p>\n",
       "</div>"
      ],
      "text/plain": [
       "      ocv1_box_col c1_box_col\n",
       "0              22열        22열\n",
       "1              22열        22열\n",
       "2              22열        22열\n",
       "3              22열        22열\n",
       "4              22열        22열\n",
       "...            ...        ...\n",
       "43749          02열        02열\n",
       "43750          02열        02열\n",
       "43751          02열        02열\n",
       "43752          02열        02열\n",
       "43753          02열        02열\n",
       "\n",
       "[43754 rows x 2 columns]"
      ]
     },
     "execution_count": 44,
     "metadata": {},
     "output_type": "execute_result"
    }
   ],
   "source": [
    "df_diff = pd.concat([df_raw['ocv1_box_col'], df_raw['c1_box_col']], axis=1)\n",
    "df_diff"
   ]
  },
  {
   "cell_type": "code",
   "execution_count": 28,
   "id": "7de12a4f",
   "metadata": {
    "ExecuteTime": {
     "end_time": "2022-11-13T06:18:49.842248Z",
     "start_time": "2022-11-13T06:18:49.824993Z"
    }
   },
   "outputs": [
    {
     "data": {
      "text/plain": [
       "True"
      ]
     },
     "execution_count": 28,
     "metadata": {},
     "output_type": "execute_result"
    }
   ],
   "source": [
    "df_raw['ocv1_box_col'].equals(df_raw['ocv2_box_col'])"
   ]
  },
  {
   "cell_type": "code",
   "execution_count": 45,
   "id": "227efed5",
   "metadata": {
    "ExecuteTime": {
     "end_time": "2022-11-13T06:24:25.511389Z",
     "start_time": "2022-11-13T06:24:25.503570Z"
    }
   },
   "outputs": [
    {
     "data": {
      "text/plain": [
       "130"
      ]
     },
     "execution_count": 45,
     "metadata": {},
     "output_type": "execute_result"
    }
   ],
   "source": [
    "len(df_raw.columns)"
   ]
  },
  {
   "cell_type": "code",
   "execution_count": 46,
   "id": "eb887107",
   "metadata": {
    "ExecuteTime": {
     "end_time": "2022-11-13T06:24:26.424656Z",
     "start_time": "2022-11-13T06:24:26.397414Z"
    }
   },
   "outputs": [],
   "source": [
    "df_raw = df_raw.drop(['c1_box_col', 'dc1_box_col', 'c2_box_col', 'dc2_box_col', 'c3_box_col', \\\n",
    "                      'dc3_box_col', 'c4_box_col', 'ocv2_box_col', \\\n",
    "                      'c1_box_dan', 'dc1_box_dan', 'c2_box_dan', 'dc2_box_dan', 'c3_box_dan', \\\n",
    "                      'dc3_box_dan', 'c4_box_dan', 'ocv2_box_dan'], axis=1)"
   ]
  },
  {
   "cell_type": "code",
   "execution_count": 47,
   "id": "c20c7690",
   "metadata": {
    "ExecuteTime": {
     "end_time": "2022-11-13T06:24:27.274285Z",
     "start_time": "2022-11-13T06:24:27.242737Z"
    }
   },
   "outputs": [],
   "source": [
    "df_raw = df_raw.rename(columns = {'ocv1_box_col':'box_col', 'ocv1_box_dan':'box_dan'})"
   ]
  },
  {
   "cell_type": "code",
   "execution_count": 48,
   "id": "c25456fe",
   "metadata": {
    "ExecuteTime": {
     "end_time": "2022-11-13T06:24:27.651669Z",
     "start_time": "2022-11-13T06:24:27.643925Z"
    }
   },
   "outputs": [
    {
     "data": {
      "text/plain": [
       "114"
      ]
     },
     "execution_count": 48,
     "metadata": {},
     "output_type": "execute_result"
    }
   ],
   "source": [
    "len(df_raw.columns)"
   ]
  },
  {
   "cell_type": "code",
   "execution_count": 49,
   "id": "6d2cc2ee",
   "metadata": {
    "ExecuteTime": {
     "end_time": "2022-11-13T06:25:11.854786Z",
     "start_time": "2022-11-13T06:25:10.685976Z"
    }
   },
   "outputs": [],
   "source": [
    "df_raw.to_csv(\"/home/piai/aibd/bd_project/data/df_bat.csv\", encoding='euc-kr')"
   ]
  },
  {
   "cell_type": "code",
   "execution_count": null,
   "id": "2b1d8dac",
   "metadata": {},
   "outputs": [],
   "source": []
  }
 ],
 "metadata": {
  "kernelspec": {
   "display_name": "Python 3 (ipykernel)",
   "language": "python",
   "name": "python3"
  },
  "language_info": {
   "codemirror_mode": {
    "name": "ipython",
    "version": 3
   },
   "file_extension": ".py",
   "mimetype": "text/x-python",
   "name": "python",
   "nbconvert_exporter": "python",
   "pygments_lexer": "ipython3",
   "version": "3.9.13"
  },
  "toc": {
   "base_numbering": 1,
   "nav_menu": {},
   "number_sections": true,
   "sideBar": true,
   "skip_h1_title": false,
   "title_cell": "Table of Contents",
   "title_sidebar": "Contents",
   "toc_cell": false,
   "toc_position": {},
   "toc_section_display": true,
   "toc_window_display": false
  }
 },
 "nbformat": 4,
 "nbformat_minor": 5
}
