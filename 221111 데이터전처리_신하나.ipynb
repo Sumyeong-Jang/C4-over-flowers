{
 "cells": [
  {
   "cell_type": "code",
   "execution_count": 38,
   "metadata": {},
   "outputs": [],
   "source": [
    "import pandas as pd\n",
    "\n",
    "import matplotlib\n",
    "import matplotlib.pyplot as plt\n",
    "%matplotlib inline\n",
    "\n",
    "import numpy as np\n",
    "\n",
    "from sklearn.preprocessing import StandardScaler\n",
    "from sklearn.model_selection import train_test_split\n",
    "\n",
    "from sklearn.svm import SVC\n",
    "from sklearn.model_selection import GridSearchCV\n",
    "\n",
    "from sklearn.metrics import accuracy_score, f1_score\n",
    "from sklearn.metrics import confusion_matrix, classification_report"
   ]
  },
  {
   "cell_type": "code",
   "execution_count": 39,
   "metadata": {},
   "outputs": [],
   "source": [
    "import warnings\n",
    "warnings.filterwarnings(action='ignore')"
   ]
  },
  {
   "cell_type": "code",
   "execution_count": 40,
   "metadata": {},
   "outputs": [],
   "source": [
    "import matplotlib.font_manager\n",
    "matplotlib.rcParams['axes.unicode_minus'] = False\n",
    "plt.rcParams[\"font.family\"] = 'NanumGothic'"
   ]
  },
  {
   "cell_type": "code",
   "execution_count": 7,
   "metadata": {},
   "outputs": [],
   "source": [
    "# # 데이터 불러오기\n",
    "# df_raw = pd.read_csv(\"/home/piai/python/datazip/C4/bat_process.csv\", encoding='cp949')"
   ]
  },
  {
   "cell_type": "code",
   "execution_count": 5,
   "metadata": {},
   "outputs": [
    {
     "data": {
      "text/html": [
       "<div>\n",
       "<style scoped>\n",
       "    .dataframe tbody tr th:only-of-type {\n",
       "        vertical-align: middle;\n",
       "    }\n",
       "\n",
       "    .dataframe tbody tr th {\n",
       "        vertical-align: top;\n",
       "    }\n",
       "\n",
       "    .dataframe thead th {\n",
       "        text-align: right;\n",
       "    }\n",
       "</style>\n",
       "<table border=\"1\" class=\"dataframe\">\n",
       "  <thead>\n",
       "    <tr style=\"text-align: right;\">\n",
       "      <th></th>\n",
       "      <th>lot_id</th>\n",
       "      <th>tray_id</th>\n",
       "      <th>dt_start</th>\n",
       "      <th>cell_id</th>\n",
       "      <th>judge</th>\n",
       "      <th>rta1_cell_no</th>\n",
       "      <th>rta1_box_col</th>\n",
       "      <th>rta1_box_row</th>\n",
       "      <th>rta1_box_dan</th>\n",
       "      <th>hta1_box_col</th>\n",
       "      <th>...</th>\n",
       "      <th>sa3_box_row</th>\n",
       "      <th>sa3_box_dan</th>\n",
       "      <th>socv3_ocv</th>\n",
       "      <th>ocv2_deltaocv</th>\n",
       "      <th>ocv1_deltaocv</th>\n",
       "      <th>m1_thick</th>\n",
       "      <th>m1_voltage</th>\n",
       "      <th>m1_res_ac</th>\n",
       "      <th>m1_mv</th>\n",
       "      <th>m1_voltage_an</th>\n",
       "    </tr>\n",
       "  </thead>\n",
       "  <tbody>\n",
       "    <tr>\n",
       "      <th>0</th>\n",
       "      <td>LOT-100</td>\n",
       "      <td>TRAY-1023</td>\n",
       "      <td>12-01-2021 오전 10:01:25</td>\n",
       "      <td>CELL-10747</td>\n",
       "      <td>양품</td>\n",
       "      <td>10</td>\n",
       "      <td>08열</td>\n",
       "      <td>33연</td>\n",
       "      <td>08단</td>\n",
       "      <td>03열</td>\n",
       "      <td>...</td>\n",
       "      <td>37연</td>\n",
       "      <td>04단</td>\n",
       "      <td>3759.3</td>\n",
       "      <td>5</td>\n",
       "      <td>6.8</td>\n",
       "      <td>4718</td>\n",
       "      <td>37583</td>\n",
       "      <td>94</td>\n",
       "      <td>565</td>\n",
       "      <td>164</td>\n",
       "    </tr>\n",
       "    <tr>\n",
       "      <th>1</th>\n",
       "      <td>LOT-100</td>\n",
       "      <td>TRAY-1023</td>\n",
       "      <td>12-01-2021 오전 10:01:25</td>\n",
       "      <td>CELL-10748</td>\n",
       "      <td>양품</td>\n",
       "      <td>7</td>\n",
       "      <td>08열</td>\n",
       "      <td>33연</td>\n",
       "      <td>08단</td>\n",
       "      <td>03열</td>\n",
       "      <td>...</td>\n",
       "      <td>37연</td>\n",
       "      <td>04단</td>\n",
       "      <td>3758.4</td>\n",
       "      <td>5</td>\n",
       "      <td>6.8</td>\n",
       "      <td>4718</td>\n",
       "      <td>37574</td>\n",
       "      <td>94</td>\n",
       "      <td>565</td>\n",
       "      <td>73</td>\n",
       "    </tr>\n",
       "    <tr>\n",
       "      <th>2</th>\n",
       "      <td>LOT-100</td>\n",
       "      <td>TRAY-1023</td>\n",
       "      <td>12-01-2021 오전 10:01:25</td>\n",
       "      <td>CELL-10749</td>\n",
       "      <td>양품</td>\n",
       "      <td>19</td>\n",
       "      <td>08열</td>\n",
       "      <td>33연</td>\n",
       "      <td>08단</td>\n",
       "      <td>03열</td>\n",
       "      <td>...</td>\n",
       "      <td>37연</td>\n",
       "      <td>04단</td>\n",
       "      <td>3759</td>\n",
       "      <td>5.1</td>\n",
       "      <td>6.9</td>\n",
       "      <td>4700</td>\n",
       "      <td>37579</td>\n",
       "      <td>91</td>\n",
       "      <td>585</td>\n",
       "      <td>-57</td>\n",
       "    </tr>\n",
       "    <tr>\n",
       "      <th>3</th>\n",
       "      <td>LOT-100</td>\n",
       "      <td>TRAY-1023</td>\n",
       "      <td>12-01-2021 오전 10:01:25</td>\n",
       "      <td>CELL-10750</td>\n",
       "      <td>양품</td>\n",
       "      <td>24</td>\n",
       "      <td>08열</td>\n",
       "      <td>33연</td>\n",
       "      <td>08단</td>\n",
       "      <td>03열</td>\n",
       "      <td>...</td>\n",
       "      <td>37연</td>\n",
       "      <td>04단</td>\n",
       "      <td>3759.5</td>\n",
       "      <td>5.1</td>\n",
       "      <td>6.9</td>\n",
       "      <td>4688</td>\n",
       "      <td>37583</td>\n",
       "      <td>93</td>\n",
       "      <td>606</td>\n",
       "      <td>99</td>\n",
       "    </tr>\n",
       "    <tr>\n",
       "      <th>4</th>\n",
       "      <td>LOT-100</td>\n",
       "      <td>TRAY-1023</td>\n",
       "      <td>12-01-2021 오전 10:01:25</td>\n",
       "      <td>CELL-10751</td>\n",
       "      <td>양품</td>\n",
       "      <td>17</td>\n",
       "      <td>08열</td>\n",
       "      <td>33연</td>\n",
       "      <td>08단</td>\n",
       "      <td>03열</td>\n",
       "      <td>...</td>\n",
       "      <td>37연</td>\n",
       "      <td>04단</td>\n",
       "      <td>3758.2</td>\n",
       "      <td>5</td>\n",
       "      <td>6.8</td>\n",
       "      <td>4696</td>\n",
       "      <td>37570</td>\n",
       "      <td>91</td>\n",
       "      <td>605</td>\n",
       "      <td>36</td>\n",
       "    </tr>\n",
       "  </tbody>\n",
       "</table>\n",
       "<p>5 rows × 109 columns</p>\n",
       "</div>"
      ],
      "text/plain": [
       "    lot_id    tray_id                dt_start     cell_id judge  rta1_cell_no  \\\n",
       "0  LOT-100  TRAY-1023  12-01-2021 오전 10:01:25  CELL-10747    양품            10   \n",
       "1  LOT-100  TRAY-1023  12-01-2021 오전 10:01:25  CELL-10748    양품             7   \n",
       "2  LOT-100  TRAY-1023  12-01-2021 오전 10:01:25  CELL-10749    양품            19   \n",
       "3  LOT-100  TRAY-1023  12-01-2021 오전 10:01:25  CELL-10750    양품            24   \n",
       "4  LOT-100  TRAY-1023  12-01-2021 오전 10:01:25  CELL-10751    양품            17   \n",
       "\n",
       "  rta1_box_col rta1_box_row rta1_box_dan hta1_box_col  ... sa3_box_row  \\\n",
       "0          08열          33연          08단          03열  ...         37연   \n",
       "1          08열          33연          08단          03열  ...         37연   \n",
       "2          08열          33연          08단          03열  ...         37연   \n",
       "3          08열          33연          08단          03열  ...         37연   \n",
       "4          08열          33연          08단          03열  ...         37연   \n",
       "\n",
       "  sa3_box_dan socv3_ocv ocv2_deltaocv ocv1_deltaocv  m1_thick m1_voltage  \\\n",
       "0         04단    3759.3             5           6.8      4718      37583   \n",
       "1         04단    3758.4             5           6.8      4718      37574   \n",
       "2         04단      3759           5.1           6.9      4700      37579   \n",
       "3         04단    3759.5           5.1           6.9      4688      37583   \n",
       "4         04단    3758.2             5           6.8      4696      37570   \n",
       "\n",
       "  m1_res_ac  m1_mv  m1_voltage_an  \n",
       "0        94    565            164  \n",
       "1        94    565             73  \n",
       "2        91    585            -57  \n",
       "3        93    606             99  \n",
       "4        91    605             36  \n",
       "\n",
       "[5 rows x 109 columns]"
      ]
     },
     "execution_count": 5,
     "metadata": {},
     "output_type": "execute_result"
    }
   ],
   "source": [
    "# df_raw.head()"
   ]
  },
  {
   "cell_type": "code",
   "execution_count": 14,
   "metadata": {},
   "outputs": [],
   "source": [
    "# df_hana = df_raw[['cell_id','judge','pc1_imp', 'pc1_voltage_start', 'pc1_curr_end','pc1_box_col','pc1_box_dan','sa1_box_col','sa1_box_row','sa1_box_dan','socv1_ocv']]"
   ]
  },
  {
   "cell_type": "code",
   "execution_count": 41,
   "metadata": {
    "scrolled": false
   },
   "outputs": [
    {
     "data": {
      "text/html": [
       "<div>\n",
       "<style scoped>\n",
       "    .dataframe tbody tr th:only-of-type {\n",
       "        vertical-align: middle;\n",
       "    }\n",
       "\n",
       "    .dataframe tbody tr th {\n",
       "        vertical-align: top;\n",
       "    }\n",
       "\n",
       "    .dataframe thead th {\n",
       "        text-align: right;\n",
       "    }\n",
       "</style>\n",
       "<table border=\"1\" class=\"dataframe\">\n",
       "  <thead>\n",
       "    <tr style=\"text-align: right;\">\n",
       "      <th></th>\n",
       "      <th>Unnamed: 0</th>\n",
       "      <th>cell_id</th>\n",
       "      <th>judge</th>\n",
       "      <th>pc1_imp</th>\n",
       "      <th>pc1_voltage_start</th>\n",
       "      <th>pc1_curr_end</th>\n",
       "      <th>pc1_box_col</th>\n",
       "      <th>pc1_box_dan</th>\n",
       "      <th>sa1_box_col</th>\n",
       "      <th>sa1_box_row</th>\n",
       "      <th>sa1_box_dan</th>\n",
       "      <th>socv1_ocv</th>\n",
       "    </tr>\n",
       "  </thead>\n",
       "  <tbody>\n",
       "    <tr>\n",
       "      <td>0</td>\n",
       "      <td>0</td>\n",
       "      <td>CELL-10747</td>\n",
       "      <td>양품</td>\n",
       "      <td>2086</td>\n",
       "      <td>3714</td>\n",
       "      <td>150</td>\n",
       "      <td>12열</td>\n",
       "      <td>01단</td>\n",
       "      <td>09열</td>\n",
       "      <td>42연</td>\n",
       "      <td>01단</td>\n",
       "      <td>3766.1</td>\n",
       "    </tr>\n",
       "    <tr>\n",
       "      <td>1</td>\n",
       "      <td>1</td>\n",
       "      <td>CELL-10748</td>\n",
       "      <td>양품</td>\n",
       "      <td>2093</td>\n",
       "      <td>3714</td>\n",
       "      <td>150</td>\n",
       "      <td>12열</td>\n",
       "      <td>01단</td>\n",
       "      <td>09열</td>\n",
       "      <td>42연</td>\n",
       "      <td>01단</td>\n",
       "      <td>3765.2</td>\n",
       "    </tr>\n",
       "    <tr>\n",
       "      <td>2</td>\n",
       "      <td>2</td>\n",
       "      <td>CELL-10749</td>\n",
       "      <td>양품</td>\n",
       "      <td>2081</td>\n",
       "      <td>3715</td>\n",
       "      <td>150</td>\n",
       "      <td>12열</td>\n",
       "      <td>01단</td>\n",
       "      <td>09열</td>\n",
       "      <td>42연</td>\n",
       "      <td>01단</td>\n",
       "      <td>3765.9</td>\n",
       "    </tr>\n",
       "    <tr>\n",
       "      <td>3</td>\n",
       "      <td>3</td>\n",
       "      <td>CELL-10750</td>\n",
       "      <td>양품</td>\n",
       "      <td>2083</td>\n",
       "      <td>3714</td>\n",
       "      <td>150</td>\n",
       "      <td>12열</td>\n",
       "      <td>01단</td>\n",
       "      <td>09열</td>\n",
       "      <td>42연</td>\n",
       "      <td>01단</td>\n",
       "      <td>3766.4</td>\n",
       "    </tr>\n",
       "    <tr>\n",
       "      <td>4</td>\n",
       "      <td>4</td>\n",
       "      <td>CELL-10751</td>\n",
       "      <td>양품</td>\n",
       "      <td>2083</td>\n",
       "      <td>3714</td>\n",
       "      <td>150</td>\n",
       "      <td>12열</td>\n",
       "      <td>01단</td>\n",
       "      <td>09열</td>\n",
       "      <td>42연</td>\n",
       "      <td>01단</td>\n",
       "      <td>3765.0</td>\n",
       "    </tr>\n",
       "  </tbody>\n",
       "</table>\n",
       "</div>"
      ],
      "text/plain": [
       "   Unnamed: 0     cell_id judge  pc1_imp  pc1_voltage_start  pc1_curr_end  \\\n",
       "0           0  CELL-10747    양품     2086               3714           150   \n",
       "1           1  CELL-10748    양품     2093               3714           150   \n",
       "2           2  CELL-10749    양품     2081               3715           150   \n",
       "3           3  CELL-10750    양품     2083               3714           150   \n",
       "4           4  CELL-10751    양품     2083               3714           150   \n",
       "\n",
       "  pc1_box_col pc1_box_dan sa1_box_col sa1_box_row sa1_box_dan  socv1_ocv  \n",
       "0         12열         01단         09열         42연         01단     3766.1  \n",
       "1         12열         01단         09열         42연         01단     3765.2  \n",
       "2         12열         01단         09열         42연         01단     3765.9  \n",
       "3         12열         01단         09열         42연         01단     3766.4  \n",
       "4         12열         01단         09열         42연         01단     3765.0  "
      ]
     },
     "execution_count": 41,
     "metadata": {},
     "output_type": "execute_result"
    }
   ],
   "source": [
    "df_hana = pd.read_csv(\"C:/Users/first/Downloads/df_hana.csv\", encoding='utf-8')\n",
    "df_hana.head()"
   ]
  },
  {
   "cell_type": "code",
   "execution_count": 42,
   "metadata": {},
   "outputs": [
    {
     "data": {
      "text/html": [
       "<div>\n",
       "<style scoped>\n",
       "    .dataframe tbody tr th:only-of-type {\n",
       "        vertical-align: middle;\n",
       "    }\n",
       "\n",
       "    .dataframe tbody tr th {\n",
       "        vertical-align: top;\n",
       "    }\n",
       "\n",
       "    .dataframe thead th {\n",
       "        text-align: right;\n",
       "    }\n",
       "</style>\n",
       "<table border=\"1\" class=\"dataframe\">\n",
       "  <thead>\n",
       "    <tr style=\"text-align: right;\">\n",
       "      <th></th>\n",
       "      <th>cell_id</th>\n",
       "      <th>judge</th>\n",
       "      <th>pc1_imp</th>\n",
       "      <th>pc1_voltage_start</th>\n",
       "      <th>pc1_curr_end</th>\n",
       "      <th>pc1_box_col</th>\n",
       "      <th>pc1_box_dan</th>\n",
       "      <th>sa1_box_col</th>\n",
       "      <th>sa1_box_row</th>\n",
       "      <th>sa1_box_dan</th>\n",
       "      <th>socv1_ocv</th>\n",
       "    </tr>\n",
       "  </thead>\n",
       "  <tbody>\n",
       "    <tr>\n",
       "      <td>0</td>\n",
       "      <td>CELL-10747</td>\n",
       "      <td>양품</td>\n",
       "      <td>2086</td>\n",
       "      <td>3714</td>\n",
       "      <td>150</td>\n",
       "      <td>12열</td>\n",
       "      <td>01단</td>\n",
       "      <td>09열</td>\n",
       "      <td>42연</td>\n",
       "      <td>01단</td>\n",
       "      <td>3766.1</td>\n",
       "    </tr>\n",
       "    <tr>\n",
       "      <td>1</td>\n",
       "      <td>CELL-10748</td>\n",
       "      <td>양품</td>\n",
       "      <td>2093</td>\n",
       "      <td>3714</td>\n",
       "      <td>150</td>\n",
       "      <td>12열</td>\n",
       "      <td>01단</td>\n",
       "      <td>09열</td>\n",
       "      <td>42연</td>\n",
       "      <td>01단</td>\n",
       "      <td>3765.2</td>\n",
       "    </tr>\n",
       "    <tr>\n",
       "      <td>2</td>\n",
       "      <td>CELL-10749</td>\n",
       "      <td>양품</td>\n",
       "      <td>2081</td>\n",
       "      <td>3715</td>\n",
       "      <td>150</td>\n",
       "      <td>12열</td>\n",
       "      <td>01단</td>\n",
       "      <td>09열</td>\n",
       "      <td>42연</td>\n",
       "      <td>01단</td>\n",
       "      <td>3765.9</td>\n",
       "    </tr>\n",
       "    <tr>\n",
       "      <td>3</td>\n",
       "      <td>CELL-10750</td>\n",
       "      <td>양품</td>\n",
       "      <td>2083</td>\n",
       "      <td>3714</td>\n",
       "      <td>150</td>\n",
       "      <td>12열</td>\n",
       "      <td>01단</td>\n",
       "      <td>09열</td>\n",
       "      <td>42연</td>\n",
       "      <td>01단</td>\n",
       "      <td>3766.4</td>\n",
       "    </tr>\n",
       "    <tr>\n",
       "      <td>4</td>\n",
       "      <td>CELL-10751</td>\n",
       "      <td>양품</td>\n",
       "      <td>2083</td>\n",
       "      <td>3714</td>\n",
       "      <td>150</td>\n",
       "      <td>12열</td>\n",
       "      <td>01단</td>\n",
       "      <td>09열</td>\n",
       "      <td>42연</td>\n",
       "      <td>01단</td>\n",
       "      <td>3765.0</td>\n",
       "    </tr>\n",
       "    <tr>\n",
       "      <td>...</td>\n",
       "      <td>...</td>\n",
       "      <td>...</td>\n",
       "      <td>...</td>\n",
       "      <td>...</td>\n",
       "      <td>...</td>\n",
       "      <td>...</td>\n",
       "      <td>...</td>\n",
       "      <td>...</td>\n",
       "      <td>...</td>\n",
       "      <td>...</td>\n",
       "      <td>...</td>\n",
       "    </tr>\n",
       "    <tr>\n",
       "      <td>43749</td>\n",
       "      <td>CELL-53649</td>\n",
       "      <td>양품</td>\n",
       "      <td>2137</td>\n",
       "      <td>3714</td>\n",
       "      <td>150</td>\n",
       "      <td>08열</td>\n",
       "      <td>01단</td>\n",
       "      <td>11열</td>\n",
       "      <td>54연</td>\n",
       "      <td>08단</td>\n",
       "      <td>3766.4</td>\n",
       "    </tr>\n",
       "    <tr>\n",
       "      <td>43750</td>\n",
       "      <td>CELL-53650</td>\n",
       "      <td>양품</td>\n",
       "      <td>2151</td>\n",
       "      <td>3714</td>\n",
       "      <td>150</td>\n",
       "      <td>08열</td>\n",
       "      <td>01단</td>\n",
       "      <td>11열</td>\n",
       "      <td>54연</td>\n",
       "      <td>08단</td>\n",
       "      <td>3766.3</td>\n",
       "    </tr>\n",
       "    <tr>\n",
       "      <td>43751</td>\n",
       "      <td>CELL-53651</td>\n",
       "      <td>양품</td>\n",
       "      <td>2149</td>\n",
       "      <td>3715</td>\n",
       "      <td>150</td>\n",
       "      <td>08열</td>\n",
       "      <td>01단</td>\n",
       "      <td>11열</td>\n",
       "      <td>54연</td>\n",
       "      <td>08단</td>\n",
       "      <td>3767.3</td>\n",
       "    </tr>\n",
       "    <tr>\n",
       "      <td>43752</td>\n",
       "      <td>CELL-54355</td>\n",
       "      <td>양품</td>\n",
       "      <td>2160</td>\n",
       "      <td>3714</td>\n",
       "      <td>150</td>\n",
       "      <td>08열</td>\n",
       "      <td>01단</td>\n",
       "      <td>11열</td>\n",
       "      <td>54연</td>\n",
       "      <td>08단</td>\n",
       "      <td>3767.0</td>\n",
       "    </tr>\n",
       "    <tr>\n",
       "      <td>43753</td>\n",
       "      <td>CELL-54356</td>\n",
       "      <td>불량</td>\n",
       "      <td>2178</td>\n",
       "      <td>3715</td>\n",
       "      <td>150</td>\n",
       "      <td>08열</td>\n",
       "      <td>01단</td>\n",
       "      <td>11열</td>\n",
       "      <td>54연</td>\n",
       "      <td>08단</td>\n",
       "      <td>3767.1</td>\n",
       "    </tr>\n",
       "  </tbody>\n",
       "</table>\n",
       "<p>43754 rows × 11 columns</p>\n",
       "</div>"
      ],
      "text/plain": [
       "          cell_id judge  pc1_imp  pc1_voltage_start  pc1_curr_end pc1_box_col  \\\n",
       "0      CELL-10747    양품     2086               3714           150         12열   \n",
       "1      CELL-10748    양품     2093               3714           150         12열   \n",
       "2      CELL-10749    양품     2081               3715           150         12열   \n",
       "3      CELL-10750    양품     2083               3714           150         12열   \n",
       "4      CELL-10751    양품     2083               3714           150         12열   \n",
       "...           ...   ...      ...                ...           ...         ...   \n",
       "43749  CELL-53649    양품     2137               3714           150         08열   \n",
       "43750  CELL-53650    양품     2151               3714           150         08열   \n",
       "43751  CELL-53651    양품     2149               3715           150         08열   \n",
       "43752  CELL-54355    양품     2160               3714           150         08열   \n",
       "43753  CELL-54356    불량     2178               3715           150         08열   \n",
       "\n",
       "      pc1_box_dan sa1_box_col sa1_box_row sa1_box_dan  socv1_ocv  \n",
       "0             01단         09열         42연         01단     3766.1  \n",
       "1             01단         09열         42연         01단     3765.2  \n",
       "2             01단         09열         42연         01단     3765.9  \n",
       "3             01단         09열         42연         01단     3766.4  \n",
       "4             01단         09열         42연         01단     3765.0  \n",
       "...           ...         ...         ...         ...        ...  \n",
       "43749         01단         11열         54연         08단     3766.4  \n",
       "43750         01단         11열         54연         08단     3766.3  \n",
       "43751         01단         11열         54연         08단     3767.3  \n",
       "43752         01단         11열         54연         08단     3767.0  \n",
       "43753         01단         11열         54연         08단     3767.1  \n",
       "\n",
       "[43754 rows x 11 columns]"
      ]
     },
     "execution_count": 42,
     "metadata": {},
     "output_type": "execute_result"
    }
   ],
   "source": [
    "df_hana = df_hana.iloc[:, 1:]\n",
    "df_hana"
   ]
  },
  {
   "cell_type": "markdown",
   "metadata": {},
   "source": [
    "## 평균 등"
   ]
  },
  {
   "cell_type": "code",
   "execution_count": 43,
   "metadata": {},
   "outputs": [
    {
     "data": {
      "text/html": [
       "<div>\n",
       "<style scoped>\n",
       "    .dataframe tbody tr th:only-of-type {\n",
       "        vertical-align: middle;\n",
       "    }\n",
       "\n",
       "    .dataframe tbody tr th {\n",
       "        vertical-align: top;\n",
       "    }\n",
       "\n",
       "    .dataframe thead th {\n",
       "        text-align: right;\n",
       "    }\n",
       "</style>\n",
       "<table border=\"1\" class=\"dataframe\">\n",
       "  <thead>\n",
       "    <tr style=\"text-align: right;\">\n",
       "      <th></th>\n",
       "      <th>pc1_imp</th>\n",
       "      <th>pc1_voltage_start</th>\n",
       "      <th>pc1_curr_end</th>\n",
       "      <th>socv1_ocv</th>\n",
       "    </tr>\n",
       "  </thead>\n",
       "  <tbody>\n",
       "    <tr>\n",
       "      <td>count</td>\n",
       "      <td>43754.000000</td>\n",
       "      <td>43754.000000</td>\n",
       "      <td>43754.000000</td>\n",
       "      <td>43754.000000</td>\n",
       "    </tr>\n",
       "    <tr>\n",
       "      <td>mean</td>\n",
       "      <td>2130.453856</td>\n",
       "      <td>3715.128994</td>\n",
       "      <td>150.000023</td>\n",
       "      <td>3766.197561</td>\n",
       "    </tr>\n",
       "    <tr>\n",
       "      <td>std</td>\n",
       "      <td>41.673686</td>\n",
       "      <td>1.489508</td>\n",
       "      <td>0.004781</td>\n",
       "      <td>0.895669</td>\n",
       "    </tr>\n",
       "    <tr>\n",
       "      <td>min</td>\n",
       "      <td>1992.000000</td>\n",
       "      <td>3709.000000</td>\n",
       "      <td>150.000000</td>\n",
       "      <td>3761.500000</td>\n",
       "    </tr>\n",
       "    <tr>\n",
       "      <td>25%</td>\n",
       "      <td>2101.000000</td>\n",
       "      <td>3714.000000</td>\n",
       "      <td>150.000000</td>\n",
       "      <td>3765.600000</td>\n",
       "    </tr>\n",
       "    <tr>\n",
       "      <td>50%</td>\n",
       "      <td>2128.000000</td>\n",
       "      <td>3715.000000</td>\n",
       "      <td>150.000000</td>\n",
       "      <td>3766.200000</td>\n",
       "    </tr>\n",
       "    <tr>\n",
       "      <td>75%</td>\n",
       "      <td>2159.000000</td>\n",
       "      <td>3716.000000</td>\n",
       "      <td>150.000000</td>\n",
       "      <td>3766.800000</td>\n",
       "    </tr>\n",
       "    <tr>\n",
       "      <td>max</td>\n",
       "      <td>2278.000000</td>\n",
       "      <td>3723.000000</td>\n",
       "      <td>151.000000</td>\n",
       "      <td>3770.800000</td>\n",
       "    </tr>\n",
       "  </tbody>\n",
       "</table>\n",
       "</div>"
      ],
      "text/plain": [
       "            pc1_imp  pc1_voltage_start  pc1_curr_end     socv1_ocv\n",
       "count  43754.000000       43754.000000  43754.000000  43754.000000\n",
       "mean    2130.453856        3715.128994    150.000023   3766.197561\n",
       "std       41.673686           1.489508      0.004781      0.895669\n",
       "min     1992.000000        3709.000000    150.000000   3761.500000\n",
       "25%     2101.000000        3714.000000    150.000000   3765.600000\n",
       "50%     2128.000000        3715.000000    150.000000   3766.200000\n",
       "75%     2159.000000        3716.000000    150.000000   3766.800000\n",
       "max     2278.000000        3723.000000    151.000000   3770.800000"
      ]
     },
     "execution_count": 43,
     "metadata": {},
     "output_type": "execute_result"
    }
   ],
   "source": [
    "df_hana.describe()"
   ]
  },
  {
   "cell_type": "markdown",
   "metadata": {},
   "source": [
    "## 결측치 확인"
   ]
  },
  {
   "cell_type": "code",
   "execution_count": 44,
   "metadata": {},
   "outputs": [
    {
     "data": {
      "text/plain": [
       "cell_id              0\n",
       "judge                0\n",
       "pc1_imp              0\n",
       "pc1_voltage_start    0\n",
       "pc1_curr_end         0\n",
       "pc1_box_col          0\n",
       "pc1_box_dan          0\n",
       "sa1_box_col          0\n",
       "sa1_box_row          0\n",
       "sa1_box_dan          0\n",
       "socv1_ocv            0\n",
       "dtype: int64"
      ]
     },
     "execution_count": 44,
     "metadata": {},
     "output_type": "execute_result"
    }
   ],
   "source": [
    "# 결측치 확인 => 없음\n",
    "df_hana.isnull().sum()"
   ]
  },
  {
   "cell_type": "markdown",
   "metadata": {},
   "source": [
    "## 이상치 확인"
   ]
  },
  {
   "cell_type": "code",
   "execution_count": 45,
   "metadata": {},
   "outputs": [
    {
     "data": {
      "text/plain": [
       "<matplotlib.axes._subplots.AxesSubplot at 0x1931d78c288>"
      ]
     },
     "execution_count": 45,
     "metadata": {},
     "output_type": "execute_result"
    },
    {
     "data": {
      "image/png": "[encoded data removed]",
      "text/plain": [
       "<Figure size 432x288 with 1 Axes>"
      ]
     },
     "metadata": {
      "needs_background": "light"
     },
     "output_type": "display_data"
    }
   ],
   "source": [
    "df_hana.boxplot()"
   ]
  },
  {
   "cell_type": "code",
   "execution_count": 46,
   "metadata": {},
   "outputs": [
    {
     "data": {
      "text/plain": [
       "array([[<matplotlib.axes._subplots.AxesSubplot object at 0x000001931D78BCC8>,\n",
       "        <matplotlib.axes._subplots.AxesSubplot object at 0x000001931D923BC8>],\n",
       "       [<matplotlib.axes._subplots.AxesSubplot object at 0x000001931D95E2C8>,\n",
       "        <matplotlib.axes._subplots.AxesSubplot object at 0x000001931D996348>]],\n",
       "      dtype=object)"
      ]
     },
     "execution_count": 46,
     "metadata": {},
     "output_type": "execute_result"
    },
    {
     "data": {
      "image/png": "[encoded data removed]",
      "text/plain": [
       "<Figure size 720x504 with 4 Axes>"
      ]
     },
     "metadata": {
      "needs_background": "light"
     },
     "output_type": "display_data"
    }
   ],
   "source": [
    "df_hana.hist(figsize = (10, 7))"
   ]
  },
  {
   "cell_type": "markdown",
   "metadata": {},
   "source": [
    "## Tat"
   ]
  },
  {
   "cell_type": "code",
   "execution_count": 60,
   "metadata": {},
   "outputs": [
    {
     "data": {
      "text/html": [
       "<div>\n",
       "<style scoped>\n",
       "    .dataframe tbody tr th:only-of-type {\n",
       "        vertical-align: middle;\n",
       "    }\n",
       "\n",
       "    .dataframe tbody tr th {\n",
       "        vertical-align: top;\n",
       "    }\n",
       "\n",
       "    .dataframe thead th {\n",
       "        text-align: right;\n",
       "    }\n",
       "</style>\n",
       "<table border=\"1\" class=\"dataframe\">\n",
       "  <thead>\n",
       "    <tr style=\"text-align: right;\">\n",
       "      <th></th>\n",
       "      <th>lot_id</th>\n",
       "      <th>tray_id</th>\n",
       "      <th>dt_start</th>\n",
       "      <th>cell_id</th>\n",
       "      <th>judge</th>\n",
       "      <th>pc1_tat</th>\n",
       "      <th>sa1_tat</th>\n",
       "      <th>socv1_tat</th>\n",
       "    </tr>\n",
       "  </thead>\n",
       "  <tbody>\n",
       "    <tr>\n",
       "      <td>0</td>\n",
       "      <td>LOT-144</td>\n",
       "      <td>TRAY-2754</td>\n",
       "      <td>12-17-2021 오전 10:17:10</td>\n",
       "      <td>CELL-53580</td>\n",
       "      <td>양품</td>\n",
       "      <td>290</td>\n",
       "      <td>43027</td>\n",
       "      <td>5</td>\n",
       "    </tr>\n",
       "    <tr>\n",
       "      <td>1</td>\n",
       "      <td>LOT-144</td>\n",
       "      <td>TRAY-2755</td>\n",
       "      <td>12-17-2021 오전 10:32:30</td>\n",
       "      <td>CELL-53656</td>\n",
       "      <td>양품</td>\n",
       "      <td>290</td>\n",
       "      <td>43027</td>\n",
       "      <td>5</td>\n",
       "    </tr>\n",
       "    <tr>\n",
       "      <td>2</td>\n",
       "      <td>LOT-144</td>\n",
       "      <td>TRAY-2755</td>\n",
       "      <td>12-17-2021 오전 10:32:30</td>\n",
       "      <td>CELL-53657</td>\n",
       "      <td>양품</td>\n",
       "      <td>290</td>\n",
       "      <td>43027</td>\n",
       "      <td>5</td>\n",
       "    </tr>\n",
       "    <tr>\n",
       "      <td>3</td>\n",
       "      <td>LOT-144</td>\n",
       "      <td>TRAY-2755</td>\n",
       "      <td>12-17-2021 오전 10:32:30</td>\n",
       "      <td>CELL-53658</td>\n",
       "      <td>양품</td>\n",
       "      <td>290</td>\n",
       "      <td>43027</td>\n",
       "      <td>5</td>\n",
       "    </tr>\n",
       "    <tr>\n",
       "      <td>4</td>\n",
       "      <td>LOT-144</td>\n",
       "      <td>TRAY-2755</td>\n",
       "      <td>12-17-2021 오전 10:32:30</td>\n",
       "      <td>CELL-53659</td>\n",
       "      <td>양품</td>\n",
       "      <td>290</td>\n",
       "      <td>43027</td>\n",
       "      <td>5</td>\n",
       "    </tr>\n",
       "  </tbody>\n",
       "</table>\n",
       "</div>"
      ],
      "text/plain": [
       "    lot_id    tray_id                dt_start     cell_id judge  pc1_tat  \\\n",
       "0  LOT-144  TRAY-2754  12-17-2021 오전 10:17:10  CELL-53580    양품      290   \n",
       "1  LOT-144  TRAY-2755  12-17-2021 오전 10:32:30  CELL-53656    양품      290   \n",
       "2  LOT-144  TRAY-2755  12-17-2021 오전 10:32:30  CELL-53657    양품      290   \n",
       "3  LOT-144  TRAY-2755  12-17-2021 오전 10:32:30  CELL-53658    양품      290   \n",
       "4  LOT-144  TRAY-2755  12-17-2021 오전 10:32:30  CELL-53659    양품      290   \n",
       "\n",
       "   sa1_tat  socv1_tat  \n",
       "0    43027          5  \n",
       "1    43027          5  \n",
       "2    43027          5  \n",
       "3    43027          5  \n",
       "4    43027          5  "
      ]
     },
     "execution_count": 60,
     "metadata": {},
     "output_type": "execute_result"
    }
   ],
   "source": [
    "tat_hana = pd.read_csv(\"C:/Users/first/Downloads/tat_hana.csv\", encoding='euc-kr')\n",
    "tat_hana.head()"
   ]
  },
  {
   "cell_type": "code",
   "execution_count": 61,
   "metadata": {},
   "outputs": [
    {
     "data": {
      "text/html": [
       "<div>\n",
       "<style scoped>\n",
       "    .dataframe tbody tr th:only-of-type {\n",
       "        vertical-align: middle;\n",
       "    }\n",
       "\n",
       "    .dataframe tbody tr th {\n",
       "        vertical-align: top;\n",
       "    }\n",
       "\n",
       "    .dataframe thead th {\n",
       "        text-align: right;\n",
       "    }\n",
       "</style>\n",
       "<table border=\"1\" class=\"dataframe\">\n",
       "  <thead>\n",
       "    <tr style=\"text-align: right;\">\n",
       "      <th></th>\n",
       "      <th>pc1_tat</th>\n",
       "      <th>sa1_tat</th>\n",
       "      <th>socv1_tat</th>\n",
       "    </tr>\n",
       "  </thead>\n",
       "  <tbody>\n",
       "    <tr>\n",
       "      <td>count</td>\n",
       "      <td>43754.000000</td>\n",
       "      <td>43754.000000</td>\n",
       "      <td>43754.000000</td>\n",
       "    </tr>\n",
       "    <tr>\n",
       "      <td>mean</td>\n",
       "      <td>289.211272</td>\n",
       "      <td>46280.070074</td>\n",
       "      <td>5.510902</td>\n",
       "    </tr>\n",
       "    <tr>\n",
       "      <td>std</td>\n",
       "      <td>4.773940</td>\n",
       "      <td>4543.917972</td>\n",
       "      <td>1.639576</td>\n",
       "    </tr>\n",
       "    <tr>\n",
       "      <td>min</td>\n",
       "      <td>259.000000</td>\n",
       "      <td>18379.000000</td>\n",
       "      <td>4.000000</td>\n",
       "    </tr>\n",
       "    <tr>\n",
       "      <td>25%</td>\n",
       "      <td>290.000000</td>\n",
       "      <td>42939.000000</td>\n",
       "      <td>5.000000</td>\n",
       "    </tr>\n",
       "    <tr>\n",
       "      <td>50%</td>\n",
       "      <td>291.000000</td>\n",
       "      <td>43100.000000</td>\n",
       "      <td>5.000000</td>\n",
       "    </tr>\n",
       "    <tr>\n",
       "      <td>75%</td>\n",
       "      <td>291.000000</td>\n",
       "      <td>50805.000000</td>\n",
       "      <td>5.000000</td>\n",
       "    </tr>\n",
       "    <tr>\n",
       "      <td>max</td>\n",
       "      <td>343.000000</td>\n",
       "      <td>61506.000000</td>\n",
       "      <td>14.000000</td>\n",
       "    </tr>\n",
       "  </tbody>\n",
       "</table>\n",
       "</div>"
      ],
      "text/plain": [
       "            pc1_tat       sa1_tat     socv1_tat\n",
       "count  43754.000000  43754.000000  43754.000000\n",
       "mean     289.211272  46280.070074      5.510902\n",
       "std        4.773940   4543.917972      1.639576\n",
       "min      259.000000  18379.000000      4.000000\n",
       "25%      290.000000  42939.000000      5.000000\n",
       "50%      291.000000  43100.000000      5.000000\n",
       "75%      291.000000  50805.000000      5.000000\n",
       "max      343.000000  61506.000000     14.000000"
      ]
     },
     "execution_count": 61,
     "metadata": {},
     "output_type": "execute_result"
    }
   ],
   "source": [
    "tat_hana.describe()"
   ]
  },
  {
   "cell_type": "code",
   "execution_count": 62,
   "metadata": {},
   "outputs": [
    {
     "data": {
      "text/plain": [
       "lot_id       0\n",
       "tray_id      0\n",
       "dt_start     0\n",
       "cell_id      0\n",
       "judge        0\n",
       "pc1_tat      0\n",
       "sa1_tat      0\n",
       "socv1_tat    0\n",
       "dtype: int64"
      ]
     },
     "execution_count": 62,
     "metadata": {},
     "output_type": "execute_result"
    }
   ],
   "source": [
    "tat_hana.isnull().sum()"
   ]
  },
  {
   "cell_type": "code",
   "execution_count": 64,
   "metadata": {},
   "outputs": [
    {
     "data": {
      "text/plain": [
       "<matplotlib.axes._subplots.AxesSubplot at 0x1931e2baac8>"
      ]
     },
     "execution_count": 64,
     "metadata": {},
     "output_type": "execute_result"
    },
    {
     "data": {
      "image/png": "[encoded data removed]",
      "text/plain": [
       "<Figure size 432x288 with 1 Axes>"
      ]
     },
     "metadata": {
      "needs_background": "light"
     },
     "output_type": "display_data"
    }
   ],
   "source": [
    "tat_hana.boxplot()"
   ]
  },
  {
   "cell_type": "code",
   "execution_count": 58,
   "metadata": {},
   "outputs": [
    {
     "data": {
      "text/plain": [
       "array([[<matplotlib.axes._subplots.AxesSubplot object at 0x000001931DA949C8>,\n",
       "        <matplotlib.axes._subplots.AxesSubplot object at 0x000001931DCF0948>],\n",
       "       [<matplotlib.axes._subplots.AxesSubplot object at 0x000001931DD23C08>,\n",
       "        <matplotlib.axes._subplots.AxesSubplot object at 0x000001931DD5C708>]],\n",
       "      dtype=object)"
      ]
     },
     "execution_count": 58,
     "metadata": {},
     "output_type": "execute_result"
    },
    {
     "data": {
      "image/png": "[encoded data removed]",
      "text/plain": [
       "<Figure size 720x504 with 4 Axes>"
      ]
     },
     "metadata": {
      "needs_background": "light"
     },
     "output_type": "display_data"
    }
   ],
   "source": [
    "tat_hana.hist(figsize = (10, 7))"
   ]
  },
  {
   "cell_type": "code",
   "execution_count": 18,
   "metadata": {},
   "outputs": [],
   "source": [
    "df_hana_bad  = df_hana[df_hana['judge'] == '불량']"
   ]
  },
  {
   "cell_type": "code",
   "execution_count": 20,
   "metadata": {},
   "outputs": [
    {
     "data": {
      "text/html": [
       "<div>\n",
       "<style scoped>\n",
       "    .dataframe tbody tr th:only-of-type {\n",
       "        vertical-align: middle;\n",
       "    }\n",
       "\n",
       "    .dataframe tbody tr th {\n",
       "        vertical-align: top;\n",
       "    }\n",
       "\n",
       "    .dataframe thead th {\n",
       "        text-align: right;\n",
       "    }\n",
       "</style>\n",
       "<table border=\"1\" class=\"dataframe\">\n",
       "  <thead>\n",
       "    <tr style=\"text-align: right;\">\n",
       "      <th></th>\n",
       "      <th>pc1_imp</th>\n",
       "      <th>pc1_voltage_start</th>\n",
       "      <th>pc1_curr_end</th>\n",
       "      <th>socv1_ocv</th>\n",
       "    </tr>\n",
       "  </thead>\n",
       "  <tbody>\n",
       "    <tr>\n",
       "      <th>count</th>\n",
       "      <td>1375.000000</td>\n",
       "      <td>1375.000000</td>\n",
       "      <td>1375.000000</td>\n",
       "      <td>1375.000000</td>\n",
       "    </tr>\n",
       "    <tr>\n",
       "      <th>mean</th>\n",
       "      <td>2153.078545</td>\n",
       "      <td>3715.046545</td>\n",
       "      <td>150.000727</td>\n",
       "      <td>3766.373309</td>\n",
       "    </tr>\n",
       "    <tr>\n",
       "      <th>std</th>\n",
       "      <td>38.587558</td>\n",
       "      <td>1.626523</td>\n",
       "      <td>0.026968</td>\n",
       "      <td>0.881300</td>\n",
       "    </tr>\n",
       "    <tr>\n",
       "      <th>min</th>\n",
       "      <td>2010.000000</td>\n",
       "      <td>3710.000000</td>\n",
       "      <td>150.000000</td>\n",
       "      <td>3762.900000</td>\n",
       "    </tr>\n",
       "    <tr>\n",
       "      <th>25%</th>\n",
       "      <td>2135.000000</td>\n",
       "      <td>3714.000000</td>\n",
       "      <td>150.000000</td>\n",
       "      <td>3765.900000</td>\n",
       "    </tr>\n",
       "    <tr>\n",
       "      <th>50%</th>\n",
       "      <td>2151.000000</td>\n",
       "      <td>3715.000000</td>\n",
       "      <td>150.000000</td>\n",
       "      <td>3766.400000</td>\n",
       "    </tr>\n",
       "    <tr>\n",
       "      <th>75%</th>\n",
       "      <td>2178.000000</td>\n",
       "      <td>3716.000000</td>\n",
       "      <td>150.000000</td>\n",
       "      <td>3767.000000</td>\n",
       "    </tr>\n",
       "    <tr>\n",
       "      <th>max</th>\n",
       "      <td>2245.000000</td>\n",
       "      <td>3720.000000</td>\n",
       "      <td>151.000000</td>\n",
       "      <td>3770.300000</td>\n",
       "    </tr>\n",
       "  </tbody>\n",
       "</table>\n",
       "</div>"
      ],
      "text/plain": [
       "           pc1_imp  pc1_voltage_start  pc1_curr_end    socv1_ocv\n",
       "count  1375.000000        1375.000000   1375.000000  1375.000000\n",
       "mean   2153.078545        3715.046545    150.000727  3766.373309\n",
       "std      38.587558           1.626523      0.026968     0.881300\n",
       "min    2010.000000        3710.000000    150.000000  3762.900000\n",
       "25%    2135.000000        3714.000000    150.000000  3765.900000\n",
       "50%    2151.000000        3715.000000    150.000000  3766.400000\n",
       "75%    2178.000000        3716.000000    150.000000  3767.000000\n",
       "max    2245.000000        3720.000000    151.000000  3770.300000"
      ]
     },
     "execution_count": 20,
     "metadata": {},
     "output_type": "execute_result"
    }
   ],
   "source": [
    "df_hana_bad.describe()"
   ]
  },
  {
   "cell_type": "code",
   "execution_count": 21,
   "metadata": {},
   "outputs": [
    {
     "data": {
      "text/plain": [
       "<AxesSubplot:>"
      ]
     },
     "execution_count": 21,
     "metadata": {},
     "output_type": "execute_result"
    },
    {
     "data": {
      "image/png": "[encoded data removed]",
      "text/plain": [
       "<Figure size 640x480 with 1 Axes>"
      ]
     },
     "metadata": {},
     "output_type": "display_data"
    }
   ],
   "source": [
    "df_hana_bad.boxplot()"
   ]
  },
  {
   "cell_type": "markdown",
   "metadata": {},
   "source": [
    "cell_id              0\n",
    "judge                0\n",
    "pc1_imp              0\n",
    "pc1_voltage_start    0\n",
    "pc1_curr_end         0\n",
    "pc1_box_col          0\n",
    "pc1_box_dan          0\n",
    "sa1_box_col          0\n",
    "sa1_box_row          0\n",
    "sa1_box_dan          0\n",
    "socv1_ocv            0\n",
    "dtype: int64"
   ]
  },
  {
   "cell_type": "code",
   "execution_count": 26,
   "metadata": {},
   "outputs": [
    {
     "data": {
      "text/plain": [
       "array([[<AxesSubplot:title={'center':'pc1_imp'}>,\n",
       "        <AxesSubplot:title={'center':'pc1_voltage_start'}>],\n",
       "       [<AxesSubplot:title={'center':'pc1_curr_end'}>,\n",
       "        <AxesSubplot:title={'center':'socv1_ocv'}>]], dtype=object)"
      ]
     },
     "execution_count": 26,
     "metadata": {},
     "output_type": "execute_result"
    },
    {
     "data": {
      "image/png": "[encoded data removed]",
      "text/plain": [
       "<Figure size 1000x700 with 4 Axes>"
      ]
     },
     "metadata": {},
     "output_type": "display_data"
    }
   ],
   "source": [
    "df_hana_bad.hist(figsize = (10, 7))"
   ]
  },
  {
   "cell_type": "code",
   "execution_count": 29,
   "metadata": {},
   "outputs": [
    {
     "ename": "TypeError",
     "evalue": "ufunc 'true_divide' not supported for the input types, and the inputs could not be safely coerced to any supported types according to the casting rule ''safe''",
     "output_type": "error",
     "traceback": [
      "\u001b[0;31m---------------------------------------------------------------------------\u001b[0m",
      "\u001b[0;31mTypeError\u001b[0m                                 Traceback (most recent call last)",
      "\u001b[0;32m/tmp/ipykernel_21851/2642819703.py\u001b[0m in \u001b[0;36m<module>\u001b[0;34m\u001b[0m\n\u001b[0;32m----> 1\u001b[0;31m \u001b[0mdf_hana_bad\u001b[0m\u001b[0;34m.\u001b[0m\u001b[0mboxplot\u001b[0m\u001b[0;34m(\u001b[0m\u001b[0mcolumn\u001b[0m\u001b[0;34m=\u001b[0m\u001b[0;34m\"judge\"\u001b[0m\u001b[0;34m,\u001b[0m \u001b[0mby\u001b[0m\u001b[0;34m=\u001b[0m\u001b[0;34m\"pc1_imp\"\u001b[0m\u001b[0;34m)\u001b[0m\u001b[0;34m\u001b[0m\u001b[0;34m\u001b[0m\u001b[0m\n\u001b[0m",
      "\u001b[0;32m~/anaconda3/lib/python3.9/site-packages/pandas/plotting/_core.py\u001b[0m in \u001b[0;36mboxplot_frame\u001b[0;34m(self, column, by, ax, fontsize, rot, grid, figsize, layout, return_type, backend, **kwargs)\u001b[0m\n\u001b[1;32m    509\u001b[0m ):\n\u001b[1;32m    510\u001b[0m     \u001b[0mplot_backend\u001b[0m \u001b[0;34m=\u001b[0m \u001b[0m_get_plot_backend\u001b[0m\u001b[0;34m(\u001b[0m\u001b[0mbackend\u001b[0m\u001b[0;34m)\u001b[0m\u001b[0;34m\u001b[0m\u001b[0;34m\u001b[0m\u001b[0m\n\u001b[0;32m--> 511\u001b[0;31m     return plot_backend.boxplot_frame(\n\u001b[0m\u001b[1;32m    512\u001b[0m         \u001b[0mself\u001b[0m\u001b[0;34m,\u001b[0m\u001b[0;34m\u001b[0m\u001b[0;34m\u001b[0m\u001b[0m\n\u001b[1;32m    513\u001b[0m         \u001b[0mcolumn\u001b[0m\u001b[0;34m=\u001b[0m\u001b[0mcolumn\u001b[0m\u001b[0;34m,\u001b[0m\u001b[0;34m\u001b[0m\u001b[0;34m\u001b[0m\u001b[0m\n",
      "\u001b[0;32m~/anaconda3/lib/python3.9/site-packages/pandas/plotting/_matplotlib/boxplot.py\u001b[0m in \u001b[0;36mboxplot_frame\u001b[0;34m(self, column, by, ax, fontsize, rot, grid, figsize, layout, return_type, **kwds)\u001b[0m\n\u001b[1;32m    423\u001b[0m     \u001b[0;32mimport\u001b[0m \u001b[0mmatplotlib\u001b[0m\u001b[0;34m.\u001b[0m\u001b[0mpyplot\u001b[0m \u001b[0;32mas\u001b[0m \u001b[0mplt\u001b[0m\u001b[0;34m\u001b[0m\u001b[0;34m\u001b[0m\u001b[0m\n\u001b[1;32m    424\u001b[0m \u001b[0;34m\u001b[0m\u001b[0m\n\u001b[0;32m--> 425\u001b[0;31m     ax = boxplot(\n\u001b[0m\u001b[1;32m    426\u001b[0m         \u001b[0mself\u001b[0m\u001b[0;34m,\u001b[0m\u001b[0;34m\u001b[0m\u001b[0;34m\u001b[0m\u001b[0m\n\u001b[1;32m    427\u001b[0m         \u001b[0mcolumn\u001b[0m\u001b[0;34m=\u001b[0m\u001b[0mcolumn\u001b[0m\u001b[0;34m,\u001b[0m\u001b[0;34m\u001b[0m\u001b[0;34m\u001b[0m\u001b[0m\n",
      "\u001b[0;32m~/anaconda3/lib/python3.9/site-packages/pandas/plotting/_matplotlib/boxplot.py\u001b[0m in \u001b[0;36mboxplot\u001b[0;34m(data, column, by, ax, fontsize, rot, grid, figsize, layout, return_type, **kwds)\u001b[0m\n\u001b[1;32m    370\u001b[0m         \u001b[0;31m# Prefer array return type for 2-D plots to match the subplot layout\u001b[0m\u001b[0;34m\u001b[0m\u001b[0;34m\u001b[0m\u001b[0m\n\u001b[1;32m    371\u001b[0m         \u001b[0;31m# https://github.com/pandas-dev/pandas/pull/12216#issuecomment-241175580\u001b[0m\u001b[0;34m\u001b[0m\u001b[0;34m\u001b[0m\u001b[0m\n\u001b[0;32m--> 372\u001b[0;31m         result = _grouped_plot_by_column(\n\u001b[0m\u001b[1;32m    373\u001b[0m             \u001b[0mplot_group\u001b[0m\u001b[0;34m,\u001b[0m\u001b[0;34m\u001b[0m\u001b[0;34m\u001b[0m\u001b[0m\n\u001b[1;32m    374\u001b[0m             \u001b[0mdata\u001b[0m\u001b[0;34m,\u001b[0m\u001b[0;34m\u001b[0m\u001b[0;34m\u001b[0m\u001b[0m\n",
      "\u001b[0;32m~/anaconda3/lib/python3.9/site-packages/pandas/plotting/_matplotlib/boxplot.py\u001b[0m in \u001b[0;36m_grouped_plot_by_column\u001b[0;34m(plotf, data, columns, by, numeric_only, grid, figsize, ax, layout, return_type, **kwargs)\u001b[0m\n\u001b[1;32m    249\u001b[0m         \u001b[0mgp_col\u001b[0m \u001b[0;34m=\u001b[0m \u001b[0mgrouped\u001b[0m\u001b[0;34m[\u001b[0m\u001b[0mcol\u001b[0m\u001b[0;34m]\u001b[0m\u001b[0;34m\u001b[0m\u001b[0;34m\u001b[0m\u001b[0m\n\u001b[1;32m    250\u001b[0m         \u001b[0mkeys\u001b[0m\u001b[0;34m,\u001b[0m \u001b[0mvalues\u001b[0m \u001b[0;34m=\u001b[0m \u001b[0mzip\u001b[0m\u001b[0;34m(\u001b[0m\u001b[0;34m*\u001b[0m\u001b[0mgp_col\u001b[0m\u001b[0;34m)\u001b[0m\u001b[0;34m\u001b[0m\u001b[0;34m\u001b[0m\u001b[0m\n\u001b[0;32m--> 251\u001b[0;31m         \u001b[0mre_plotf\u001b[0m \u001b[0;34m=\u001b[0m \u001b[0mplotf\u001b[0m\u001b[0;34m(\u001b[0m\u001b[0mkeys\u001b[0m\u001b[0;34m,\u001b[0m \u001b[0mvalues\u001b[0m\u001b[0;34m,\u001b[0m \u001b[0max\u001b[0m\u001b[0;34m,\u001b[0m \u001b[0;34m**\u001b[0m\u001b[0mkwargs\u001b[0m\u001b[0;34m)\u001b[0m\u001b[0;34m\u001b[0m\u001b[0;34m\u001b[0m\u001b[0m\n\u001b[0m\u001b[1;32m    252\u001b[0m         \u001b[0max\u001b[0m\u001b[0;34m.\u001b[0m\u001b[0mset_title\u001b[0m\u001b[0;34m(\u001b[0m\u001b[0mcol\u001b[0m\u001b[0;34m)\u001b[0m\u001b[0;34m\u001b[0m\u001b[0;34m\u001b[0m\u001b[0m\n\u001b[1;32m    253\u001b[0m         \u001b[0max\u001b[0m\u001b[0;34m.\u001b[0m\u001b[0mset_xlabel\u001b[0m\u001b[0;34m(\u001b[0m\u001b[0mpprint_thing\u001b[0m\u001b[0;34m(\u001b[0m\u001b[0mby\u001b[0m\u001b[0;34m)\u001b[0m\u001b[0;34m)\u001b[0m\u001b[0;34m\u001b[0m\u001b[0;34m\u001b[0m\u001b[0m\n",
      "\u001b[0;32m~/anaconda3/lib/python3.9/site-packages/pandas/plotting/_matplotlib/boxplot.py\u001b[0m in \u001b[0;36mplot_group\u001b[0;34m(keys, values, ax)\u001b[0m\n\u001b[1;32m    336\u001b[0m         \u001b[0mkeys\u001b[0m \u001b[0;34m=\u001b[0m \u001b[0;34m[\u001b[0m\u001b[0mpprint_thing\u001b[0m\u001b[0;34m(\u001b[0m\u001b[0mx\u001b[0m\u001b[0;34m)\u001b[0m \u001b[0;32mfor\u001b[0m \u001b[0mx\u001b[0m \u001b[0;32min\u001b[0m \u001b[0mkeys\u001b[0m\u001b[0;34m]\u001b[0m\u001b[0;34m\u001b[0m\u001b[0;34m\u001b[0m\u001b[0m\n\u001b[1;32m    337\u001b[0m         \u001b[0mvalues\u001b[0m \u001b[0;34m=\u001b[0m \u001b[0;34m[\u001b[0m\u001b[0mnp\u001b[0m\u001b[0;34m.\u001b[0m\u001b[0masarray\u001b[0m\u001b[0;34m(\u001b[0m\u001b[0mremove_na_arraylike\u001b[0m\u001b[0;34m(\u001b[0m\u001b[0mv\u001b[0m\u001b[0;34m)\u001b[0m\u001b[0;34m,\u001b[0m \u001b[0mdtype\u001b[0m\u001b[0;34m=\u001b[0m\u001b[0mobject\u001b[0m\u001b[0;34m)\u001b[0m \u001b[0;32mfor\u001b[0m \u001b[0mv\u001b[0m \u001b[0;32min\u001b[0m \u001b[0mvalues\u001b[0m\u001b[0;34m]\u001b[0m\u001b[0;34m\u001b[0m\u001b[0;34m\u001b[0m\u001b[0m\n\u001b[0;32m--> 338\u001b[0;31m         \u001b[0mbp\u001b[0m \u001b[0;34m=\u001b[0m \u001b[0max\u001b[0m\u001b[0;34m.\u001b[0m\u001b[0mboxplot\u001b[0m\u001b[0;34m(\u001b[0m\u001b[0mvalues\u001b[0m\u001b[0;34m,\u001b[0m \u001b[0;34m**\u001b[0m\u001b[0mkwds\u001b[0m\u001b[0;34m)\u001b[0m\u001b[0;34m\u001b[0m\u001b[0;34m\u001b[0m\u001b[0m\n\u001b[0m\u001b[1;32m    339\u001b[0m         \u001b[0;32mif\u001b[0m \u001b[0mfontsize\u001b[0m \u001b[0;32mis\u001b[0m \u001b[0;32mnot\u001b[0m \u001b[0;32mNone\u001b[0m\u001b[0;34m:\u001b[0m\u001b[0;34m\u001b[0m\u001b[0;34m\u001b[0m\u001b[0m\n\u001b[1;32m    340\u001b[0m             \u001b[0max\u001b[0m\u001b[0;34m.\u001b[0m\u001b[0mtick_params\u001b[0m\u001b[0;34m(\u001b[0m\u001b[0maxis\u001b[0m\u001b[0;34m=\u001b[0m\u001b[0;34m\"both\"\u001b[0m\u001b[0;34m,\u001b[0m \u001b[0mlabelsize\u001b[0m\u001b[0;34m=\u001b[0m\u001b[0mfontsize\u001b[0m\u001b[0;34m)\u001b[0m\u001b[0;34m\u001b[0m\u001b[0;34m\u001b[0m\u001b[0m\n",
      "\u001b[0;32m~/anaconda3/lib/python3.9/site-packages/matplotlib/__init__.py\u001b[0m in \u001b[0;36minner\u001b[0;34m(ax, data, *args, **kwargs)\u001b[0m\n\u001b[1;32m   1410\u001b[0m     \u001b[0;32mdef\u001b[0m \u001b[0minner\u001b[0m\u001b[0;34m(\u001b[0m\u001b[0max\u001b[0m\u001b[0;34m,\u001b[0m \u001b[0;34m*\u001b[0m\u001b[0margs\u001b[0m\u001b[0;34m,\u001b[0m \u001b[0mdata\u001b[0m\u001b[0;34m=\u001b[0m\u001b[0;32mNone\u001b[0m\u001b[0;34m,\u001b[0m \u001b[0;34m**\u001b[0m\u001b[0mkwargs\u001b[0m\u001b[0;34m)\u001b[0m\u001b[0;34m:\u001b[0m\u001b[0;34m\u001b[0m\u001b[0;34m\u001b[0m\u001b[0m\n\u001b[1;32m   1411\u001b[0m         \u001b[0;32mif\u001b[0m \u001b[0mdata\u001b[0m \u001b[0;32mis\u001b[0m \u001b[0;32mNone\u001b[0m\u001b[0;34m:\u001b[0m\u001b[0;34m\u001b[0m\u001b[0;34m\u001b[0m\u001b[0m\n\u001b[0;32m-> 1412\u001b[0;31m             \u001b[0;32mreturn\u001b[0m \u001b[0mfunc\u001b[0m\u001b[0;34m(\u001b[0m\u001b[0max\u001b[0m\u001b[0;34m,\u001b[0m \u001b[0;34m*\u001b[0m\u001b[0mmap\u001b[0m\u001b[0;34m(\u001b[0m\u001b[0msanitize_sequence\u001b[0m\u001b[0;34m,\u001b[0m \u001b[0margs\u001b[0m\u001b[0;34m)\u001b[0m\u001b[0;34m,\u001b[0m \u001b[0;34m**\u001b[0m\u001b[0mkwargs\u001b[0m\u001b[0;34m)\u001b[0m\u001b[0;34m\u001b[0m\u001b[0;34m\u001b[0m\u001b[0m\n\u001b[0m\u001b[1;32m   1413\u001b[0m \u001b[0;34m\u001b[0m\u001b[0m\n\u001b[1;32m   1414\u001b[0m         \u001b[0mbound\u001b[0m \u001b[0;34m=\u001b[0m \u001b[0mnew_sig\u001b[0m\u001b[0;34m.\u001b[0m\u001b[0mbind\u001b[0m\u001b[0;34m(\u001b[0m\u001b[0max\u001b[0m\u001b[0;34m,\u001b[0m \u001b[0;34m*\u001b[0m\u001b[0margs\u001b[0m\u001b[0;34m,\u001b[0m \u001b[0;34m**\u001b[0m\u001b[0mkwargs\u001b[0m\u001b[0;34m)\u001b[0m\u001b[0;34m\u001b[0m\u001b[0;34m\u001b[0m\u001b[0m\n",
      "\u001b[0;32m~/anaconda3/lib/python3.9/site-packages/matplotlib/axes/_axes.py\u001b[0m in \u001b[0;36mboxplot\u001b[0;34m(self, x, notch, sym, vert, whis, positions, widths, patch_artist, bootstrap, usermedians, conf_intervals, meanline, showmeans, showcaps, showbox, showfliers, boxprops, labels, flierprops, medianprops, meanprops, capprops, whiskerprops, manage_ticks, autorange, zorder)\u001b[0m\n\u001b[1;32m   3702\u001b[0m             \u001b[0mbootstrap\u001b[0m \u001b[0;34m=\u001b[0m \u001b[0mrcParams\u001b[0m\u001b[0;34m[\u001b[0m\u001b[0;34m'boxplot.bootstrap'\u001b[0m\u001b[0;34m]\u001b[0m\u001b[0;34m\u001b[0m\u001b[0;34m\u001b[0m\u001b[0m\n\u001b[1;32m   3703\u001b[0m \u001b[0;34m\u001b[0m\u001b[0m\n\u001b[0;32m-> 3704\u001b[0;31m         bxpstats = cbook.boxplot_stats(x, whis=whis, bootstrap=bootstrap,\n\u001b[0m\u001b[1;32m   3705\u001b[0m                                        labels=labels, autorange=autorange)\n\u001b[1;32m   3706\u001b[0m         \u001b[0;32mif\u001b[0m \u001b[0mnotch\u001b[0m \u001b[0;32mis\u001b[0m \u001b[0;32mNone\u001b[0m\u001b[0;34m:\u001b[0m\u001b[0;34m\u001b[0m\u001b[0;34m\u001b[0m\u001b[0m\n",
      "\u001b[0;32m~/anaconda3/lib/python3.9/site-packages/matplotlib/cbook/__init__.py\u001b[0m in \u001b[0;36mboxplot_stats\u001b[0;34m(X, whis, bootstrap, labels, autorange)\u001b[0m\n\u001b[1;32m   1193\u001b[0m \u001b[0;34m\u001b[0m\u001b[0m\n\u001b[1;32m   1194\u001b[0m         \u001b[0;31m# arithmetic mean\u001b[0m\u001b[0;34m\u001b[0m\u001b[0;34m\u001b[0m\u001b[0m\n\u001b[0;32m-> 1195\u001b[0;31m         \u001b[0mstats\u001b[0m\u001b[0;34m[\u001b[0m\u001b[0;34m'mean'\u001b[0m\u001b[0;34m]\u001b[0m \u001b[0;34m=\u001b[0m \u001b[0mnp\u001b[0m\u001b[0;34m.\u001b[0m\u001b[0mmean\u001b[0m\u001b[0;34m(\u001b[0m\u001b[0mx\u001b[0m\u001b[0;34m)\u001b[0m\u001b[0;34m\u001b[0m\u001b[0;34m\u001b[0m\u001b[0m\n\u001b[0m\u001b[1;32m   1196\u001b[0m \u001b[0;34m\u001b[0m\u001b[0m\n\u001b[1;32m   1197\u001b[0m         \u001b[0;31m# medians and quartiles\u001b[0m\u001b[0;34m\u001b[0m\u001b[0;34m\u001b[0m\u001b[0m\n",
      "\u001b[0;32m<__array_function__ internals>\u001b[0m in \u001b[0;36mmean\u001b[0;34m(*args, **kwargs)\u001b[0m\n",
      "\u001b[0;32m~/anaconda3/lib/python3.9/site-packages/numpy/core/fromnumeric.py\u001b[0m in \u001b[0;36mmean\u001b[0;34m(a, axis, dtype, out, keepdims, where)\u001b[0m\n\u001b[1;32m   3438\u001b[0m             \u001b[0;32mreturn\u001b[0m \u001b[0mmean\u001b[0m\u001b[0;34m(\u001b[0m\u001b[0maxis\u001b[0m\u001b[0;34m=\u001b[0m\u001b[0maxis\u001b[0m\u001b[0;34m,\u001b[0m \u001b[0mdtype\u001b[0m\u001b[0;34m=\u001b[0m\u001b[0mdtype\u001b[0m\u001b[0;34m,\u001b[0m \u001b[0mout\u001b[0m\u001b[0;34m=\u001b[0m\u001b[0mout\u001b[0m\u001b[0;34m,\u001b[0m \u001b[0;34m**\u001b[0m\u001b[0mkwargs\u001b[0m\u001b[0;34m)\u001b[0m\u001b[0;34m\u001b[0m\u001b[0;34m\u001b[0m\u001b[0m\n\u001b[1;32m   3439\u001b[0m \u001b[0;34m\u001b[0m\u001b[0m\n\u001b[0;32m-> 3440\u001b[0;31m     return _methods._mean(a, axis=axis, dtype=dtype,\n\u001b[0m\u001b[1;32m   3441\u001b[0m                           out=out, **kwargs)\n\u001b[1;32m   3442\u001b[0m \u001b[0;34m\u001b[0m\u001b[0m\n",
      "\u001b[0;32m~/anaconda3/lib/python3.9/site-packages/numpy/core/_methods.py\u001b[0m in \u001b[0;36m_mean\u001b[0;34m(a, axis, dtype, out, keepdims, where)\u001b[0m\n\u001b[1;32m    189\u001b[0m             \u001b[0mret\u001b[0m \u001b[0;34m=\u001b[0m \u001b[0mret\u001b[0m\u001b[0;34m.\u001b[0m\u001b[0mdtype\u001b[0m\u001b[0;34m.\u001b[0m\u001b[0mtype\u001b[0m\u001b[0;34m(\u001b[0m\u001b[0mret\u001b[0m \u001b[0;34m/\u001b[0m \u001b[0mrcount\u001b[0m\u001b[0;34m)\u001b[0m\u001b[0;34m\u001b[0m\u001b[0;34m\u001b[0m\u001b[0m\n\u001b[1;32m    190\u001b[0m     \u001b[0;32melse\u001b[0m\u001b[0;34m:\u001b[0m\u001b[0;34m\u001b[0m\u001b[0;34m\u001b[0m\u001b[0m\n\u001b[0;32m--> 191\u001b[0;31m         \u001b[0mret\u001b[0m \u001b[0;34m=\u001b[0m \u001b[0mret\u001b[0m \u001b[0;34m/\u001b[0m \u001b[0mrcount\u001b[0m\u001b[0;34m\u001b[0m\u001b[0;34m\u001b[0m\u001b[0m\n\u001b[0m\u001b[1;32m    192\u001b[0m \u001b[0;34m\u001b[0m\u001b[0m\n\u001b[1;32m    193\u001b[0m     \u001b[0;32mreturn\u001b[0m \u001b[0mret\u001b[0m\u001b[0;34m\u001b[0m\u001b[0;34m\u001b[0m\u001b[0m\n",
      "\u001b[0;31mTypeError\u001b[0m: ufunc 'true_divide' not supported for the input types, and the inputs could not be safely coerced to any supported types according to the casting rule ''safe''"
     ]
    },
    {
     "data": {
      "image/png": "[encoded data removed]",
      "text/plain": [
       "<Figure size 640x480 with 1 Axes>"
      ]
     },
     "metadata": {},
     "output_type": "display_data"
    }
   ],
   "source": [
    "df_hana_bad.boxplot(column=\"judge\", by=\"pc1_imp\")"
   ]
  },
  {
   "cell_type": "code",
   "execution_count": null,
   "metadata": {},
   "outputs": [],
   "source": []
  },
  {
   "cell_type": "code",
   "execution_count": null,
   "metadata": {},
   "outputs": [],
   "source": []
  },
  {
   "cell_type": "code",
   "execution_count": null,
   "metadata": {},
   "outputs": [],
   "source": []
  },
  {
   "cell_type": "code",
   "execution_count": null,
   "metadata": {},
   "outputs": [],
   "source": []
  },
  {
   "cell_type": "code",
   "execution_count": null,
   "metadata": {},
   "outputs": [],
   "source": []
  }
 ],
 "metadata": {
  "kernelspec": {
   "display_name": "Python 3",
   "language": "python",
   "name": "python3"
  },
  "language_info": {
   "codemirror_mode": {
    "name": "ipython",
    "version": 3
   },
   "file_extension": ".py",
   "mimetype": "text/x-python",
   "name": "python",
   "nbconvert_exporter": "python",
   "pygments_lexer": "ipython3",
   "version": "3.7.4"
  },
  "toc": {
   "base_numbering": 1,
   "nav_menu": {},
   "number_sections": true,
   "sideBar": true,
   "skip_h1_title": false,
   "title_cell": "Table of Contents",
   "title_sidebar": "Contents",
   "toc_cell": false,
   "toc_position": {},
   "toc_section_display": true,
   "toc_window_display": true
  },
  "varInspector": {
   "cols": {
    "lenName": 16,
    "lenType": 16,
    "lenVar": 40
   },
   "kernels_config": {
    "python": {
     "delete_cmd_postfix": "",
     "delete_cmd_prefix": "del ",
     "library": "var_list.py",
     "varRefreshCmd": "print(var_dic_list())"
    },
    "r": {
     "delete_cmd_postfix": ") ",
     "delete_cmd_prefix": "rm(",
     "library": "var_list.r",
     "varRefreshCmd": "cat(var_dic_list()) "
    }
   },
   "types_to_exclude": [
    "module",
    "function",
    "builtin_function_or_method",
    "instance",
    "_Feature"
   ],
   "window_display": false
  }
 },
 "nbformat": 4,
 "nbformat_minor": 5
}
