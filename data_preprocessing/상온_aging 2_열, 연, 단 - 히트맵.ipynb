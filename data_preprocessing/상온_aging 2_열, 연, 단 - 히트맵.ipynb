{
 "cells": [
  {
   "cell_type": "code",
   "execution_count": 1,
   "id": "142969c4",
   "metadata": {
    "ExecuteTime": {
     "end_time": "2022-11-14T08:07:11.614395Z",
     "start_time": "2022-11-14T08:07:05.176022Z"
    }
   },
   "outputs": [],
   "source": [
    "import pandas as pd\n",
    "import numpy as np\n",
    "import matplotlib\n",
    "import matplotlib.pyplot as plt\n",
    "import seaborn as sns\n",
    "import warnings\n",
    "warnings.filterwarnings(action='ignore')"
   ]
  },
  {
   "cell_type": "code",
   "execution_count": 2,
   "id": "0c6139a1",
   "metadata": {
    "ExecuteTime": {
     "end_time": "2022-11-14T08:07:19.346895Z",
     "start_time": "2022-11-14T08:07:16.993208Z"
    }
   },
   "outputs": [],
   "source": [
    "# Process 관련 변수\n",
    "df_process_raw = pd.read_csv(\"C:/python/데이터셋/bat_process.csv\", encoding ='euc-kr', low_memory=False)\n",
    "# 시간 관련 변수\n",
    "df_tat_raw=pd.read_csv(\"C:/python/데이터셋/bat_tat.csv\", encoding='euc-kr', low_memory=False)"
   ]
  },
  {
   "cell_type": "code",
   "execution_count": 29,
   "id": "0ff2e23e",
   "metadata": {
    "ExecuteTime": {
     "end_time": "2022-11-14T08:21:11.525675Z",
     "start_time": "2022-11-14T08:21:11.518201Z"
    }
   },
   "outputs": [],
   "source": [
    "# 유니코드 깨짐현상 해결\n",
    "matplotlib.rcParams['axes.unicode_minus'] = False\n",
    "\n",
    "# 나눔고딕 폰트 적용\n",
    "matplotlib.rcParams['font.family']='NanumGothic'"
   ]
  },
  {
   "cell_type": "code",
   "execution_count": 4,
   "id": "6c5d0037",
   "metadata": {
    "ExecuteTime": {
     "end_time": "2022-11-14T08:07:47.697730Z",
     "start_time": "2022-11-14T08:07:47.689961Z"
    }
   },
   "outputs": [
    {
     "data": {
      "text/plain": [
       "Index(['lot_id', 'tray_id', 'dt_start', 'cell_id', 'judge', 'rta1_cell_no',\n",
       "       'rta1_box_col', 'rta1_box_row', 'rta1_box_dan', 'hta1_box_col',\n",
       "       ...\n",
       "       'sa3_box_row', 'sa3_box_dan', 'socv3_ocv', 'ocv2_deltaocv',\n",
       "       'ocv1_deltaocv', 'm1_thick', 'm1_voltage', 'm1_res_ac', 'm1_mv',\n",
       "       'm1_voltage_an'],\n",
       "      dtype='object', length=109)"
      ]
     },
     "execution_count": 4,
     "metadata": {},
     "output_type": "execute_result"
    }
   ],
   "source": [
    "df_process_raw.columns"
   ]
  },
  {
   "cell_type": "code",
   "execution_count": 7,
   "id": "5a091681",
   "metadata": {
    "ExecuteTime": {
     "end_time": "2022-11-14T08:09:22.957557Z",
     "start_time": "2022-11-14T08:09:22.948581Z"
    }
   },
   "outputs": [],
   "source": [
    "df_rta2 = df_process_raw[['judge', 'rta2_box_col', 'rta2_box_row', 'rta2_box_dan']]"
   ]
  },
  {
   "cell_type": "code",
   "execution_count": 8,
   "id": "ce301589",
   "metadata": {
    "ExecuteTime": {
     "end_time": "2022-11-14T08:09:27.575290Z",
     "start_time": "2022-11-14T08:09:27.547327Z"
    }
   },
   "outputs": [
    {
     "data": {
      "text/html": [
       "<div>\n",
       "<style scoped>\n",
       "    .dataframe tbody tr th:only-of-type {\n",
       "        vertical-align: middle;\n",
       "    }\n",
       "\n",
       "    .dataframe tbody tr th {\n",
       "        vertical-align: top;\n",
       "    }\n",
       "\n",
       "    .dataframe thead th {\n",
       "        text-align: right;\n",
       "    }\n",
       "</style>\n",
       "<table border=\"1\" class=\"dataframe\">\n",
       "  <thead>\n",
       "    <tr style=\"text-align: right;\">\n",
       "      <th></th>\n",
       "      <th>judge</th>\n",
       "      <th>rta2_box_col</th>\n",
       "      <th>rta2_box_row</th>\n",
       "      <th>rta2_box_dan</th>\n",
       "    </tr>\n",
       "  </thead>\n",
       "  <tbody>\n",
       "    <tr>\n",
       "      <th>0</th>\n",
       "      <td>양품</td>\n",
       "      <td>04열</td>\n",
       "      <td>64연</td>\n",
       "      <td>06단</td>\n",
       "    </tr>\n",
       "    <tr>\n",
       "      <th>1</th>\n",
       "      <td>양품</td>\n",
       "      <td>04열</td>\n",
       "      <td>64연</td>\n",
       "      <td>06단</td>\n",
       "    </tr>\n",
       "    <tr>\n",
       "      <th>2</th>\n",
       "      <td>양품</td>\n",
       "      <td>04열</td>\n",
       "      <td>64연</td>\n",
       "      <td>06단</td>\n",
       "    </tr>\n",
       "    <tr>\n",
       "      <th>3</th>\n",
       "      <td>양품</td>\n",
       "      <td>04열</td>\n",
       "      <td>64연</td>\n",
       "      <td>06단</td>\n",
       "    </tr>\n",
       "    <tr>\n",
       "      <th>4</th>\n",
       "      <td>양품</td>\n",
       "      <td>04열</td>\n",
       "      <td>64연</td>\n",
       "      <td>06단</td>\n",
       "    </tr>\n",
       "  </tbody>\n",
       "</table>\n",
       "</div>"
      ],
      "text/plain": [
       "  judge rta2_box_col rta2_box_row rta2_box_dan\n",
       "0    양품          04열          64연          06단\n",
       "1    양품          04열          64연          06단\n",
       "2    양품          04열          64연          06단\n",
       "3    양품          04열          64연          06단\n",
       "4    양품          04열          64연          06단"
      ]
     },
     "execution_count": 8,
     "metadata": {},
     "output_type": "execute_result"
    }
   ],
   "source": [
    "df_rta2.head()"
   ]
  },
  {
   "cell_type": "code",
   "execution_count": 13,
   "id": "baf3f968",
   "metadata": {
    "ExecuteTime": {
     "end_time": "2022-11-14T08:13:13.152758Z",
     "start_time": "2022-11-14T08:13:13.109604Z"
    }
   },
   "outputs": [
    {
     "data": {
      "text/html": [
       "<div>\n",
       "<style scoped>\n",
       "    .dataframe tbody tr th:only-of-type {\n",
       "        vertical-align: middle;\n",
       "    }\n",
       "\n",
       "    .dataframe tbody tr th {\n",
       "        vertical-align: top;\n",
       "    }\n",
       "\n",
       "    .dataframe thead th {\n",
       "        text-align: right;\n",
       "    }\n",
       "</style>\n",
       "<table border=\"1\" class=\"dataframe\">\n",
       "  <thead>\n",
       "    <tr style=\"text-align: right;\">\n",
       "      <th></th>\n",
       "      <th>rta2_box_col</th>\n",
       "      <th>rta2_box_row</th>\n",
       "      <th>rta2_box_dan</th>\n",
       "      <th>count</th>\n",
       "    </tr>\n",
       "  </thead>\n",
       "  <tbody>\n",
       "    <tr>\n",
       "      <th>0</th>\n",
       "      <td>01열</td>\n",
       "      <td>01연</td>\n",
       "      <td>02단</td>\n",
       "      <td>50</td>\n",
       "    </tr>\n",
       "    <tr>\n",
       "      <th>1</th>\n",
       "      <td>01열</td>\n",
       "      <td>01연</td>\n",
       "      <td>08단</td>\n",
       "      <td>48</td>\n",
       "    </tr>\n",
       "    <tr>\n",
       "      <th>2</th>\n",
       "      <td>01열</td>\n",
       "      <td>01연</td>\n",
       "      <td>10단</td>\n",
       "      <td>50</td>\n",
       "    </tr>\n",
       "    <tr>\n",
       "      <th>3</th>\n",
       "      <td>01열</td>\n",
       "      <td>02연</td>\n",
       "      <td>02단</td>\n",
       "      <td>48</td>\n",
       "    </tr>\n",
       "    <tr>\n",
       "      <th>4</th>\n",
       "      <td>01열</td>\n",
       "      <td>02연</td>\n",
       "      <td>05단</td>\n",
       "      <td>50</td>\n",
       "    </tr>\n",
       "  </tbody>\n",
       "</table>\n",
       "</div>"
      ],
      "text/plain": [
       "  rta2_box_col rta2_box_row rta2_box_dan  count\n",
       "0          01열          01연          02단     50\n",
       "1          01열          01연          08단     48\n",
       "2          01열          01연          10단     50\n",
       "3          01열          02연          02단     48\n",
       "4          01열          02연          05단     50"
      ]
     },
     "execution_count": 13,
     "metadata": {},
     "output_type": "execute_result"
    }
   ],
   "source": [
    "df_tot = df_rta2.groupby(['rta2_box_col', 'rta2_box_row', 'rta2_box_dan'], as_index=False).count()\n",
    "df_tot.rename(columns={'judge': 'count'}, inplace=True)\n",
    "df_tot.head()"
   ]
  },
  {
   "cell_type": "code",
   "execution_count": 17,
   "id": "62ed6f25",
   "metadata": {
    "ExecuteTime": {
     "end_time": "2022-11-14T08:15:15.808944Z",
     "start_time": "2022-11-14T08:15:15.768871Z"
    }
   },
   "outputs": [
    {
     "data": {
      "text/html": [
       "<div>\n",
       "<style scoped>\n",
       "    .dataframe tbody tr th:only-of-type {\n",
       "        vertical-align: middle;\n",
       "    }\n",
       "\n",
       "    .dataframe tbody tr th {\n",
       "        vertical-align: top;\n",
       "    }\n",
       "\n",
       "    .dataframe thead th {\n",
       "        text-align: right;\n",
       "    }\n",
       "</style>\n",
       "<table border=\"1\" class=\"dataframe\">\n",
       "  <thead>\n",
       "    <tr style=\"text-align: right;\">\n",
       "      <th></th>\n",
       "      <th>rta2_box_col</th>\n",
       "      <th>rta2_box_row</th>\n",
       "      <th>rta2_box_dan</th>\n",
       "      <th>error_count</th>\n",
       "    </tr>\n",
       "  </thead>\n",
       "  <tbody>\n",
       "    <tr>\n",
       "      <th>0</th>\n",
       "      <td>01열</td>\n",
       "      <td>02연</td>\n",
       "      <td>02단</td>\n",
       "      <td>2</td>\n",
       "    </tr>\n",
       "    <tr>\n",
       "      <th>1</th>\n",
       "      <td>01열</td>\n",
       "      <td>06연</td>\n",
       "      <td>09단</td>\n",
       "      <td>4</td>\n",
       "    </tr>\n",
       "    <tr>\n",
       "      <th>2</th>\n",
       "      <td>01열</td>\n",
       "      <td>07연</td>\n",
       "      <td>05단</td>\n",
       "      <td>5</td>\n",
       "    </tr>\n",
       "    <tr>\n",
       "      <th>3</th>\n",
       "      <td>01열</td>\n",
       "      <td>07연</td>\n",
       "      <td>08단</td>\n",
       "      <td>2</td>\n",
       "    </tr>\n",
       "    <tr>\n",
       "      <th>4</th>\n",
       "      <td>01열</td>\n",
       "      <td>10연</td>\n",
       "      <td>05단</td>\n",
       "      <td>30</td>\n",
       "    </tr>\n",
       "  </tbody>\n",
       "</table>\n",
       "</div>"
      ],
      "text/plain": [
       "  rta2_box_col rta2_box_row rta2_box_dan  error_count\n",
       "0          01열          02연          02단            2\n",
       "1          01열          06연          09단            4\n",
       "2          01열          07연          05단            5\n",
       "3          01열          07연          08단            2\n",
       "4          01열          10연          05단           30"
      ]
     },
     "execution_count": 17,
     "metadata": {},
     "output_type": "execute_result"
    }
   ],
   "source": [
    "df_error=df_rta2[df_rta2['judge']=='불량']\n",
    "df_error=df_error.groupby(['rta2_box_col', 'rta2_box_row', 'rta2_box_dan'], as_index=False).count()\n",
    "df_error.rename(columns={'judge' : 'error_count'}, inplace=True)\n",
    "df_error.head()"
   ]
  },
  {
   "cell_type": "code",
   "execution_count": 19,
   "id": "0b32e0f4",
   "metadata": {
    "ExecuteTime": {
     "end_time": "2022-11-14T08:16:39.106275Z",
     "start_time": "2022-11-14T08:16:39.082572Z"
    }
   },
   "outputs": [
    {
     "data": {
      "text/plain": [
       "rta2_box_col    0\n",
       "rta2_box_row    0\n",
       "rta2_box_dan    0\n",
       "error_count     0\n",
       "dtype: int64"
      ]
     },
     "execution_count": 19,
     "metadata": {},
     "output_type": "execute_result"
    }
   ],
   "source": [
    "df_error.isnull().sum()"
   ]
  },
  {
   "cell_type": "code",
   "execution_count": 21,
   "id": "54cb20ba",
   "metadata": {
    "ExecuteTime": {
     "end_time": "2022-11-14T08:17:33.336554Z",
     "start_time": "2022-11-14T08:17:33.296325Z"
    }
   },
   "outputs": [
    {
     "data": {
      "text/html": [
       "<div>\n",
       "<style scoped>\n",
       "    .dataframe tbody tr th:only-of-type {\n",
       "        vertical-align: middle;\n",
       "    }\n",
       "\n",
       "    .dataframe tbody tr th {\n",
       "        vertical-align: top;\n",
       "    }\n",
       "\n",
       "    .dataframe thead th {\n",
       "        text-align: right;\n",
       "    }\n",
       "</style>\n",
       "<table border=\"1\" class=\"dataframe\">\n",
       "  <thead>\n",
       "    <tr style=\"text-align: right;\">\n",
       "      <th></th>\n",
       "      <th>rta2_box_col</th>\n",
       "      <th>rta2_box_row</th>\n",
       "      <th>rta2_box_dan</th>\n",
       "      <th>error_count</th>\n",
       "    </tr>\n",
       "  </thead>\n",
       "  <tbody>\n",
       "    <tr>\n",
       "      <th>count</th>\n",
       "      <td>335</td>\n",
       "      <td>335</td>\n",
       "      <td>335</td>\n",
       "      <td>335.000000</td>\n",
       "    </tr>\n",
       "    <tr>\n",
       "      <th>unique</th>\n",
       "      <td>8</td>\n",
       "      <td>64</td>\n",
       "      <td>11</td>\n",
       "      <td>NaN</td>\n",
       "    </tr>\n",
       "    <tr>\n",
       "      <th>top</th>\n",
       "      <td>05열</td>\n",
       "      <td>10연</td>\n",
       "      <td>07단</td>\n",
       "      <td>NaN</td>\n",
       "    </tr>\n",
       "    <tr>\n",
       "      <th>freq</th>\n",
       "      <td>57</td>\n",
       "      <td>11</td>\n",
       "      <td>42</td>\n",
       "      <td>NaN</td>\n",
       "    </tr>\n",
       "    <tr>\n",
       "      <th>mean</th>\n",
       "      <td>NaN</td>\n",
       "      <td>NaN</td>\n",
       "      <td>NaN</td>\n",
       "      <td>4.104478</td>\n",
       "    </tr>\n",
       "    <tr>\n",
       "      <th>std</th>\n",
       "      <td>NaN</td>\n",
       "      <td>NaN</td>\n",
       "      <td>NaN</td>\n",
       "      <td>5.065837</td>\n",
       "    </tr>\n",
       "    <tr>\n",
       "      <th>min</th>\n",
       "      <td>NaN</td>\n",
       "      <td>NaN</td>\n",
       "      <td>NaN</td>\n",
       "      <td>1.000000</td>\n",
       "    </tr>\n",
       "    <tr>\n",
       "      <th>25%</th>\n",
       "      <td>NaN</td>\n",
       "      <td>NaN</td>\n",
       "      <td>NaN</td>\n",
       "      <td>1.000000</td>\n",
       "    </tr>\n",
       "    <tr>\n",
       "      <th>50%</th>\n",
       "      <td>NaN</td>\n",
       "      <td>NaN</td>\n",
       "      <td>NaN</td>\n",
       "      <td>2.000000</td>\n",
       "    </tr>\n",
       "    <tr>\n",
       "      <th>75%</th>\n",
       "      <td>NaN</td>\n",
       "      <td>NaN</td>\n",
       "      <td>NaN</td>\n",
       "      <td>5.000000</td>\n",
       "    </tr>\n",
       "    <tr>\n",
       "      <th>max</th>\n",
       "      <td>NaN</td>\n",
       "      <td>NaN</td>\n",
       "      <td>NaN</td>\n",
       "      <td>30.000000</td>\n",
       "    </tr>\n",
       "  </tbody>\n",
       "</table>\n",
       "</div>"
      ],
      "text/plain": [
       "       rta2_box_col rta2_box_row rta2_box_dan  error_count\n",
       "count           335          335          335   335.000000\n",
       "unique            8           64           11          NaN\n",
       "top             05열          10연          07단          NaN\n",
       "freq             57           11           42          NaN\n",
       "mean            NaN          NaN          NaN     4.104478\n",
       "std             NaN          NaN          NaN     5.065837\n",
       "min             NaN          NaN          NaN     1.000000\n",
       "25%             NaN          NaN          NaN     1.000000\n",
       "50%             NaN          NaN          NaN     2.000000\n",
       "75%             NaN          NaN          NaN     5.000000\n",
       "max             NaN          NaN          NaN    30.000000"
      ]
     },
     "execution_count": 21,
     "metadata": {},
     "output_type": "execute_result"
    }
   ],
   "source": [
    "df_error.describe(include='all')"
   ]
  },
  {
   "cell_type": "code",
   "execution_count": 37,
   "id": "126a163c",
   "metadata": {
    "ExecuteTime": {
     "end_time": "2022-11-14T08:24:20.205511Z",
     "start_time": "2022-11-14T08:24:20.183568Z"
    }
   },
   "outputs": [],
   "source": [
    "df_pivot=pd.pivot_table(df_error, values='error_count', index=['rta2_box_dan'], columns=['rta2_box_col'], fill_value=0)"
   ]
  },
  {
   "cell_type": "code",
   "execution_count": 38,
   "id": "73ae9b9e",
   "metadata": {
    "ExecuteTime": {
     "end_time": "2022-11-14T08:24:21.251214Z",
     "start_time": "2022-11-14T08:24:20.673758Z"
    }
   },
   "outputs": [
    {
     "data": {
      "text/plain": [
       "<AxesSubplot:xlabel='rta2_box_col', ylabel='rta2_box_dan'>"
      ]
     },
     "execution_count": 38,
     "metadata": {},
     "output_type": "execute_result"
    },
    {
     "data": {
      "image/png": "[encoded data removed]",
      "text/plain": [
       "<Figure size 720x720 with 2 Axes>"
      ]
     },
     "metadata": {
      "needs_background": "light"
     },
     "output_type": "display_data"
    }
   ],
   "source": [
    "fig=plt.figure(figsize=(10,10))\n",
    "sns.heatmap(df_pivot, cmap='Blues')"
   ]
  },
  {
   "cell_type": "code",
   "execution_count": 35,
   "id": "95e6f488",
   "metadata": {
    "ExecuteTime": {
     "end_time": "2022-11-14T08:23:55.342744Z",
     "start_time": "2022-11-14T08:23:55.318351Z"
    }
   },
   "outputs": [],
   "source": [
    "df_pivot2=pd.pivot_table(df_error, values='error_count', index=['rta2_box_row'], columns=['rta2_box_col'], fill_value=0)"
   ]
  },
  {
   "cell_type": "code",
   "execution_count": 36,
   "id": "b3d9374d",
   "metadata": {
    "ExecuteTime": {
     "end_time": "2022-11-14T08:23:57.418930Z",
     "start_time": "2022-11-14T08:23:56.708675Z"
    }
   },
   "outputs": [
    {
     "data": {
      "text/plain": [
       "<AxesSubplot:xlabel='rta2_box_col', ylabel='rta2_box_row'>"
      ]
     },
     "execution_count": 36,
     "metadata": {},
     "output_type": "execute_result"
    },
    {
     "data": {
      "image/png": "[encoded data removed]",
      "text/plain": [
       "<Figure size 720x720 with 2 Axes>"
      ]
     },
     "metadata": {
      "needs_background": "light"
     },
     "output_type": "display_data"
    }
   ],
   "source": [
    "fig=plt.figure(figsize=(10,10))\n",
    "sns.heatmap(df_pivot2, cmap='Blues')"
   ]
  },
  {
   "cell_type": "code",
   "execution_count": 41,
   "id": "32fe27fb",
   "metadata": {
    "ExecuteTime": {
     "end_time": "2022-11-14T08:27:07.782385Z",
     "start_time": "2022-11-14T08:27:07.735952Z"
    }
   },
   "outputs": [],
   "source": [
    "df_pivot3=pd.pivot_table(df_error, values='error_count', index=['rta2_box_dan'], columns=['rta2_box_row'], fill_value=0)"
   ]
  },
  {
   "cell_type": "code",
   "execution_count": 42,
   "id": "a3dd1671",
   "metadata": {
    "ExecuteTime": {
     "end_time": "2022-11-14T08:27:10.399254Z",
     "start_time": "2022-11-14T08:27:09.503578Z"
    }
   },
   "outputs": [
    {
     "data": {
      "text/plain": [
       "<AxesSubplot:xlabel='rta2_box_row', ylabel='rta2_box_dan'>"
      ]
     },
     "execution_count": 42,
     "metadata": {},
     "output_type": "execute_result"
    },
    {
     "data": {
      "image/png": "[encoded data removed]",
      "text/plain": [
       "<Figure size 720x720 with 2 Axes>"
      ]
     },
     "metadata": {
      "needs_background": "light"
     },
     "output_type": "display_data"
    }
   ],
   "source": [
    "fig=plt.figure(figsize=(10,10))\n",
    "sns.heatmap(df_pivot3, cmap='Blues')"
   ]
  },
  {
   "cell_type": "code",
   "execution_count": 43,
   "id": "49a11f21",
   "metadata": {
    "ExecuteTime": {
     "end_time": "2022-11-14T08:27:29.806032Z",
     "start_time": "2022-11-14T08:27:29.779087Z"
    }
   },
   "outputs": [
    {
     "data": {
      "text/html": [
       "<div>\n",
       "<style scoped>\n",
       "    .dataframe tbody tr th:only-of-type {\n",
       "        vertical-align: middle;\n",
       "    }\n",
       "\n",
       "    .dataframe tbody tr th {\n",
       "        vertical-align: top;\n",
       "    }\n",
       "\n",
       "    .dataframe thead th {\n",
       "        text-align: right;\n",
       "    }\n",
       "</style>\n",
       "<table border=\"1\" class=\"dataframe\">\n",
       "  <thead>\n",
       "    <tr style=\"text-align: right;\">\n",
       "      <th></th>\n",
       "      <th>rta2_box_col</th>\n",
       "      <th>rta2_box_row</th>\n",
       "      <th>rta2_box_dan</th>\n",
       "      <th>count</th>\n",
       "    </tr>\n",
       "  </thead>\n",
       "  <tbody>\n",
       "    <tr>\n",
       "      <th>0</th>\n",
       "      <td>01열</td>\n",
       "      <td>01연</td>\n",
       "      <td>02단</td>\n",
       "      <td>50</td>\n",
       "    </tr>\n",
       "    <tr>\n",
       "      <th>1</th>\n",
       "      <td>01열</td>\n",
       "      <td>01연</td>\n",
       "      <td>08단</td>\n",
       "      <td>48</td>\n",
       "    </tr>\n",
       "    <tr>\n",
       "      <th>2</th>\n",
       "      <td>01열</td>\n",
       "      <td>01연</td>\n",
       "      <td>10단</td>\n",
       "      <td>50</td>\n",
       "    </tr>\n",
       "    <tr>\n",
       "      <th>3</th>\n",
       "      <td>01열</td>\n",
       "      <td>02연</td>\n",
       "      <td>02단</td>\n",
       "      <td>48</td>\n",
       "    </tr>\n",
       "    <tr>\n",
       "      <th>4</th>\n",
       "      <td>01열</td>\n",
       "      <td>02연</td>\n",
       "      <td>05단</td>\n",
       "      <td>50</td>\n",
       "    </tr>\n",
       "    <tr>\n",
       "      <th>...</th>\n",
       "      <td>...</td>\n",
       "      <td>...</td>\n",
       "      <td>...</td>\n",
       "      <td>...</td>\n",
       "    </tr>\n",
       "    <tr>\n",
       "      <th>836</th>\n",
       "      <td>08열</td>\n",
       "      <td>61연</td>\n",
       "      <td>04단</td>\n",
       "      <td>49</td>\n",
       "    </tr>\n",
       "    <tr>\n",
       "      <th>837</th>\n",
       "      <td>08열</td>\n",
       "      <td>61연</td>\n",
       "      <td>11단</td>\n",
       "      <td>50</td>\n",
       "    </tr>\n",
       "    <tr>\n",
       "      <th>838</th>\n",
       "      <td>08열</td>\n",
       "      <td>64연</td>\n",
       "      <td>08단</td>\n",
       "      <td>50</td>\n",
       "    </tr>\n",
       "    <tr>\n",
       "      <th>839</th>\n",
       "      <td>08열</td>\n",
       "      <td>65연</td>\n",
       "      <td>01단</td>\n",
       "      <td>50</td>\n",
       "    </tr>\n",
       "    <tr>\n",
       "      <th>840</th>\n",
       "      <td>08열</td>\n",
       "      <td>65연</td>\n",
       "      <td>02단</td>\n",
       "      <td>50</td>\n",
       "    </tr>\n",
       "  </tbody>\n",
       "</table>\n",
       "<p>841 rows × 4 columns</p>\n",
       "</div>"
      ],
      "text/plain": [
       "    rta2_box_col rta2_box_row rta2_box_dan  count\n",
       "0            01열          01연          02단     50\n",
       "1            01열          01연          08단     48\n",
       "2            01열          01연          10단     50\n",
       "3            01열          02연          02단     48\n",
       "4            01열          02연          05단     50\n",
       "..           ...          ...          ...    ...\n",
       "836          08열          61연          04단     49\n",
       "837          08열          61연          11단     50\n",
       "838          08열          64연          08단     50\n",
       "839          08열          65연          01단     50\n",
       "840          08열          65연          02단     50\n",
       "\n",
       "[841 rows x 4 columns]"
      ]
     },
     "execution_count": 43,
     "metadata": {},
     "output_type": "execute_result"
    }
   ],
   "source": [
    "df_tot"
   ]
  },
  {
   "cell_type": "code",
   "execution_count": 45,
   "id": "5a7f9f67",
   "metadata": {
    "ExecuteTime": {
     "end_time": "2022-11-14T08:27:35.166049Z",
     "start_time": "2022-11-14T08:27:35.135482Z"
    }
   },
   "outputs": [
    {
     "data": {
      "text/html": [
       "<div>\n",
       "<style scoped>\n",
       "    .dataframe tbody tr th:only-of-type {\n",
       "        vertical-align: middle;\n",
       "    }\n",
       "\n",
       "    .dataframe tbody tr th {\n",
       "        vertical-align: top;\n",
       "    }\n",
       "\n",
       "    .dataframe thead th {\n",
       "        text-align: right;\n",
       "    }\n",
       "</style>\n",
       "<table border=\"1\" class=\"dataframe\">\n",
       "  <thead>\n",
       "    <tr style=\"text-align: right;\">\n",
       "      <th></th>\n",
       "      <th>rta2_box_col</th>\n",
       "      <th>rta2_box_row</th>\n",
       "      <th>rta2_box_dan</th>\n",
       "      <th>error_count</th>\n",
       "    </tr>\n",
       "  </thead>\n",
       "  <tbody>\n",
       "    <tr>\n",
       "      <th>0</th>\n",
       "      <td>01열</td>\n",
       "      <td>02연</td>\n",
       "      <td>02단</td>\n",
       "      <td>2</td>\n",
       "    </tr>\n",
       "    <tr>\n",
       "      <th>1</th>\n",
       "      <td>01열</td>\n",
       "      <td>06연</td>\n",
       "      <td>09단</td>\n",
       "      <td>4</td>\n",
       "    </tr>\n",
       "    <tr>\n",
       "      <th>2</th>\n",
       "      <td>01열</td>\n",
       "      <td>07연</td>\n",
       "      <td>05단</td>\n",
       "      <td>5</td>\n",
       "    </tr>\n",
       "    <tr>\n",
       "      <th>3</th>\n",
       "      <td>01열</td>\n",
       "      <td>07연</td>\n",
       "      <td>08단</td>\n",
       "      <td>2</td>\n",
       "    </tr>\n",
       "    <tr>\n",
       "      <th>4</th>\n",
       "      <td>01열</td>\n",
       "      <td>10연</td>\n",
       "      <td>05단</td>\n",
       "      <td>30</td>\n",
       "    </tr>\n",
       "    <tr>\n",
       "      <th>...</th>\n",
       "      <td>...</td>\n",
       "      <td>...</td>\n",
       "      <td>...</td>\n",
       "      <td>...</td>\n",
       "    </tr>\n",
       "    <tr>\n",
       "      <th>330</th>\n",
       "      <td>08열</td>\n",
       "      <td>56연</td>\n",
       "      <td>03단</td>\n",
       "      <td>1</td>\n",
       "    </tr>\n",
       "    <tr>\n",
       "      <th>331</th>\n",
       "      <td>08열</td>\n",
       "      <td>56연</td>\n",
       "      <td>11단</td>\n",
       "      <td>1</td>\n",
       "    </tr>\n",
       "    <tr>\n",
       "      <th>332</th>\n",
       "      <td>08열</td>\n",
       "      <td>57연</td>\n",
       "      <td>11단</td>\n",
       "      <td>3</td>\n",
       "    </tr>\n",
       "    <tr>\n",
       "      <th>333</th>\n",
       "      <td>08열</td>\n",
       "      <td>60연</td>\n",
       "      <td>10단</td>\n",
       "      <td>8</td>\n",
       "    </tr>\n",
       "    <tr>\n",
       "      <th>334</th>\n",
       "      <td>08열</td>\n",
       "      <td>61연</td>\n",
       "      <td>11단</td>\n",
       "      <td>3</td>\n",
       "    </tr>\n",
       "  </tbody>\n",
       "</table>\n",
       "<p>335 rows × 4 columns</p>\n",
       "</div>"
      ],
      "text/plain": [
       "    rta2_box_col rta2_box_row rta2_box_dan  error_count\n",
       "0            01열          02연          02단            2\n",
       "1            01열          06연          09단            4\n",
       "2            01열          07연          05단            5\n",
       "3            01열          07연          08단            2\n",
       "4            01열          10연          05단           30\n",
       "..           ...          ...          ...          ...\n",
       "330          08열          56연          03단            1\n",
       "331          08열          56연          11단            1\n",
       "332          08열          57연          11단            3\n",
       "333          08열          60연          10단            8\n",
       "334          08열          61연          11단            3\n",
       "\n",
       "[335 rows x 4 columns]"
      ]
     },
     "execution_count": 45,
     "metadata": {},
     "output_type": "execute_result"
    }
   ],
   "source": [
    "df_error"
   ]
  },
  {
   "cell_type": "code",
   "execution_count": 48,
   "id": "daded8b0",
   "metadata": {
    "ExecuteTime": {
     "end_time": "2022-11-14T08:28:57.356250Z",
     "start_time": "2022-11-14T08:28:57.338432Z"
    }
   },
   "outputs": [],
   "source": [
    "df_rate=pd.merge(df_tot, df_error, how='left', on=['rta2_box_col', 'rta2_box_row', 'rta2_box_dan'])\n",
    "df_rate.fillna(0,inplace=True)"
   ]
  },
  {
   "cell_type": "code",
   "execution_count": 49,
   "id": "69a2e291",
   "metadata": {
    "ExecuteTime": {
     "end_time": "2022-11-14T08:29:00.990586Z",
     "start_time": "2022-11-14T08:29:00.968119Z"
    }
   },
   "outputs": [
    {
     "data": {
      "text/html": [
       "<div>\n",
       "<style scoped>\n",
       "    .dataframe tbody tr th:only-of-type {\n",
       "        vertical-align: middle;\n",
       "    }\n",
       "\n",
       "    .dataframe tbody tr th {\n",
       "        vertical-align: top;\n",
       "    }\n",
       "\n",
       "    .dataframe thead th {\n",
       "        text-align: right;\n",
       "    }\n",
       "</style>\n",
       "<table border=\"1\" class=\"dataframe\">\n",
       "  <thead>\n",
       "    <tr style=\"text-align: right;\">\n",
       "      <th></th>\n",
       "      <th>rta2_box_col</th>\n",
       "      <th>rta2_box_row</th>\n",
       "      <th>rta2_box_dan</th>\n",
       "      <th>count</th>\n",
       "      <th>error_count</th>\n",
       "    </tr>\n",
       "  </thead>\n",
       "  <tbody>\n",
       "    <tr>\n",
       "      <th>0</th>\n",
       "      <td>01열</td>\n",
       "      <td>01연</td>\n",
       "      <td>02단</td>\n",
       "      <td>50</td>\n",
       "      <td>0.0</td>\n",
       "    </tr>\n",
       "    <tr>\n",
       "      <th>1</th>\n",
       "      <td>01열</td>\n",
       "      <td>01연</td>\n",
       "      <td>08단</td>\n",
       "      <td>48</td>\n",
       "      <td>0.0</td>\n",
       "    </tr>\n",
       "    <tr>\n",
       "      <th>2</th>\n",
       "      <td>01열</td>\n",
       "      <td>01연</td>\n",
       "      <td>10단</td>\n",
       "      <td>50</td>\n",
       "      <td>0.0</td>\n",
       "    </tr>\n",
       "    <tr>\n",
       "      <th>3</th>\n",
       "      <td>01열</td>\n",
       "      <td>02연</td>\n",
       "      <td>02단</td>\n",
       "      <td>48</td>\n",
       "      <td>2.0</td>\n",
       "    </tr>\n",
       "    <tr>\n",
       "      <th>4</th>\n",
       "      <td>01열</td>\n",
       "      <td>02연</td>\n",
       "      <td>05단</td>\n",
       "      <td>50</td>\n",
       "      <td>0.0</td>\n",
       "    </tr>\n",
       "  </tbody>\n",
       "</table>\n",
       "</div>"
      ],
      "text/plain": [
       "  rta2_box_col rta2_box_row rta2_box_dan  count  error_count\n",
       "0          01열          01연          02단     50          0.0\n",
       "1          01열          01연          08단     48          0.0\n",
       "2          01열          01연          10단     50          0.0\n",
       "3          01열          02연          02단     48          2.0\n",
       "4          01열          02연          05단     50          0.0"
      ]
     },
     "execution_count": 49,
     "metadata": {},
     "output_type": "execute_result"
    }
   ],
   "source": [
    "df_rate.head()"
   ]
  },
  {
   "cell_type": "code",
   "execution_count": 50,
   "id": "9d8e22b4",
   "metadata": {
    "ExecuteTime": {
     "end_time": "2022-11-14T08:29:36.939271Z",
     "start_time": "2022-11-14T08:29:36.918561Z"
    }
   },
   "outputs": [],
   "source": [
    "df_rate['rate']=((df_rate['error_count']/df_rate['count'])*100).round(2)"
   ]
  },
  {
   "cell_type": "code",
   "execution_count": 51,
   "id": "2cd149e7",
   "metadata": {
    "ExecuteTime": {
     "end_time": "2022-11-14T08:29:39.899617Z",
     "start_time": "2022-11-14T08:29:39.872744Z"
    }
   },
   "outputs": [
    {
     "data": {
      "text/html": [
       "<div>\n",
       "<style scoped>\n",
       "    .dataframe tbody tr th:only-of-type {\n",
       "        vertical-align: middle;\n",
       "    }\n",
       "\n",
       "    .dataframe tbody tr th {\n",
       "        vertical-align: top;\n",
       "    }\n",
       "\n",
       "    .dataframe thead th {\n",
       "        text-align: right;\n",
       "    }\n",
       "</style>\n",
       "<table border=\"1\" class=\"dataframe\">\n",
       "  <thead>\n",
       "    <tr style=\"text-align: right;\">\n",
       "      <th></th>\n",
       "      <th>rta2_box_col</th>\n",
       "      <th>rta2_box_row</th>\n",
       "      <th>rta2_box_dan</th>\n",
       "      <th>count</th>\n",
       "      <th>error_count</th>\n",
       "      <th>rate</th>\n",
       "    </tr>\n",
       "  </thead>\n",
       "  <tbody>\n",
       "    <tr>\n",
       "      <th>0</th>\n",
       "      <td>01열</td>\n",
       "      <td>01연</td>\n",
       "      <td>02단</td>\n",
       "      <td>50</td>\n",
       "      <td>0.0</td>\n",
       "      <td>0.00</td>\n",
       "    </tr>\n",
       "    <tr>\n",
       "      <th>1</th>\n",
       "      <td>01열</td>\n",
       "      <td>01연</td>\n",
       "      <td>08단</td>\n",
       "      <td>48</td>\n",
       "      <td>0.0</td>\n",
       "      <td>0.00</td>\n",
       "    </tr>\n",
       "    <tr>\n",
       "      <th>2</th>\n",
       "      <td>01열</td>\n",
       "      <td>01연</td>\n",
       "      <td>10단</td>\n",
       "      <td>50</td>\n",
       "      <td>0.0</td>\n",
       "      <td>0.00</td>\n",
       "    </tr>\n",
       "    <tr>\n",
       "      <th>3</th>\n",
       "      <td>01열</td>\n",
       "      <td>02연</td>\n",
       "      <td>02단</td>\n",
       "      <td>48</td>\n",
       "      <td>2.0</td>\n",
       "      <td>4.17</td>\n",
       "    </tr>\n",
       "    <tr>\n",
       "      <th>4</th>\n",
       "      <td>01열</td>\n",
       "      <td>02연</td>\n",
       "      <td>05단</td>\n",
       "      <td>50</td>\n",
       "      <td>0.0</td>\n",
       "      <td>0.00</td>\n",
       "    </tr>\n",
       "  </tbody>\n",
       "</table>\n",
       "</div>"
      ],
      "text/plain": [
       "  rta2_box_col rta2_box_row rta2_box_dan  count  error_count  rate\n",
       "0          01열          01연          02단     50          0.0  0.00\n",
       "1          01열          01연          08단     48          0.0  0.00\n",
       "2          01열          01연          10단     50          0.0  0.00\n",
       "3          01열          02연          02단     48          2.0  4.17\n",
       "4          01열          02연          05단     50          0.0  0.00"
      ]
     },
     "execution_count": 51,
     "metadata": {},
     "output_type": "execute_result"
    }
   ],
   "source": [
    "df_rate.head()"
   ]
  },
  {
   "cell_type": "code",
   "execution_count": 53,
   "id": "9db76ee3",
   "metadata": {
    "ExecuteTime": {
     "end_time": "2022-11-14T08:30:06.913405Z",
     "start_time": "2022-11-14T08:30:06.887502Z"
    }
   },
   "outputs": [
    {
     "data": {
      "text/html": [
       "<div>\n",
       "<style scoped>\n",
       "    .dataframe tbody tr th:only-of-type {\n",
       "        vertical-align: middle;\n",
       "    }\n",
       "\n",
       "    .dataframe tbody tr th {\n",
       "        vertical-align: top;\n",
       "    }\n",
       "\n",
       "    .dataframe thead th {\n",
       "        text-align: right;\n",
       "    }\n",
       "</style>\n",
       "<table border=\"1\" class=\"dataframe\">\n",
       "  <thead>\n",
       "    <tr style=\"text-align: right;\">\n",
       "      <th></th>\n",
       "      <th>rta2_box_col</th>\n",
       "      <th>rta2_box_row</th>\n",
       "      <th>rta2_box_dan</th>\n",
       "      <th>rate</th>\n",
       "    </tr>\n",
       "  </thead>\n",
       "  <tbody>\n",
       "    <tr>\n",
       "      <th>0</th>\n",
       "      <td>01열</td>\n",
       "      <td>01연</td>\n",
       "      <td>02단</td>\n",
       "      <td>0.00</td>\n",
       "    </tr>\n",
       "    <tr>\n",
       "      <th>1</th>\n",
       "      <td>01열</td>\n",
       "      <td>01연</td>\n",
       "      <td>08단</td>\n",
       "      <td>0.00</td>\n",
       "    </tr>\n",
       "    <tr>\n",
       "      <th>2</th>\n",
       "      <td>01열</td>\n",
       "      <td>01연</td>\n",
       "      <td>10단</td>\n",
       "      <td>0.00</td>\n",
       "    </tr>\n",
       "    <tr>\n",
       "      <th>3</th>\n",
       "      <td>01열</td>\n",
       "      <td>02연</td>\n",
       "      <td>02단</td>\n",
       "      <td>4.17</td>\n",
       "    </tr>\n",
       "    <tr>\n",
       "      <th>4</th>\n",
       "      <td>01열</td>\n",
       "      <td>02연</td>\n",
       "      <td>05단</td>\n",
       "      <td>0.00</td>\n",
       "    </tr>\n",
       "    <tr>\n",
       "      <th>...</th>\n",
       "      <td>...</td>\n",
       "      <td>...</td>\n",
       "      <td>...</td>\n",
       "      <td>...</td>\n",
       "    </tr>\n",
       "    <tr>\n",
       "      <th>836</th>\n",
       "      <td>08열</td>\n",
       "      <td>61연</td>\n",
       "      <td>04단</td>\n",
       "      <td>0.00</td>\n",
       "    </tr>\n",
       "    <tr>\n",
       "      <th>837</th>\n",
       "      <td>08열</td>\n",
       "      <td>61연</td>\n",
       "      <td>11단</td>\n",
       "      <td>6.00</td>\n",
       "    </tr>\n",
       "    <tr>\n",
       "      <th>838</th>\n",
       "      <td>08열</td>\n",
       "      <td>64연</td>\n",
       "      <td>08단</td>\n",
       "      <td>0.00</td>\n",
       "    </tr>\n",
       "    <tr>\n",
       "      <th>839</th>\n",
       "      <td>08열</td>\n",
       "      <td>65연</td>\n",
       "      <td>01단</td>\n",
       "      <td>0.00</td>\n",
       "    </tr>\n",
       "    <tr>\n",
       "      <th>840</th>\n",
       "      <td>08열</td>\n",
       "      <td>65연</td>\n",
       "      <td>02단</td>\n",
       "      <td>0.00</td>\n",
       "    </tr>\n",
       "  </tbody>\n",
       "</table>\n",
       "<p>841 rows × 4 columns</p>\n",
       "</div>"
      ],
      "text/plain": [
       "    rta2_box_col rta2_box_row rta2_box_dan  rate\n",
       "0            01열          01연          02단  0.00\n",
       "1            01열          01연          08단  0.00\n",
       "2            01열          01연          10단  0.00\n",
       "3            01열          02연          02단  4.17\n",
       "4            01열          02연          05단  0.00\n",
       "..           ...          ...          ...   ...\n",
       "836          08열          61연          04단  0.00\n",
       "837          08열          61연          11단  6.00\n",
       "838          08열          64연          08단  0.00\n",
       "839          08열          65연          01단  0.00\n",
       "840          08열          65연          02단  0.00\n",
       "\n",
       "[841 rows x 4 columns]"
      ]
     },
     "execution_count": 53,
     "metadata": {},
     "output_type": "execute_result"
    }
   ],
   "source": [
    "df_rate.drop(['count', 'error_count'], axis=1)"
   ]
  },
  {
   "cell_type": "code",
   "execution_count": 61,
   "id": "2a5d4ffc",
   "metadata": {
    "ExecuteTime": {
     "end_time": "2022-11-14T08:35:16.254605Z",
     "start_time": "2022-11-14T08:35:16.223272Z"
    }
   },
   "outputs": [],
   "source": [
    "df_pivot4=pd.pivot_table(df_rate, values='rate', index=['rta2_box_row'], columns=['rta2_box_col'], fill_value=0)"
   ]
  },
  {
   "cell_type": "code",
   "execution_count": 62,
   "id": "87244561",
   "metadata": {
    "ExecuteTime": {
     "end_time": "2022-11-14T08:35:17.528920Z",
     "start_time": "2022-11-14T08:35:16.712445Z"
    }
   },
   "outputs": [
    {
     "data": {
      "text/plain": [
       "<AxesSubplot:xlabel='rta2_box_col', ylabel='rta2_box_row'>"
      ]
     },
     "execution_count": 62,
     "metadata": {},
     "output_type": "execute_result"
    },
    {
     "data": {
      "image/png": "[encoded data removed]",
      "text/plain": [
       "<Figure size 720x720 with 2 Axes>"
      ]
     },
     "metadata": {
      "needs_background": "light"
     },
     "output_type": "display_data"
    }
   ],
   "source": [
    "fig=plt.figure(figsize=(10,10))\n",
    "sns.heatmap(df_pivot4, cmap='Blues')"
   ]
  },
  {
   "cell_type": "code",
   "execution_count": 63,
   "id": "14bcdc6d",
   "metadata": {
    "ExecuteTime": {
     "end_time": "2022-11-14T08:35:30.031052Z",
     "start_time": "2022-11-14T08:35:30.002267Z"
    }
   },
   "outputs": [],
   "source": [
    "df_pivot5=pd.pivot_table(df_rate, values='rate', index=['rta2_box_dan'], columns=['rta2_box_col'], fill_value=0)"
   ]
  },
  {
   "cell_type": "code",
   "execution_count": 64,
   "id": "adf6eae2",
   "metadata": {
    "ExecuteTime": {
     "end_time": "2022-11-14T08:35:32.038239Z",
     "start_time": "2022-11-14T08:35:31.381804Z"
    }
   },
   "outputs": [
    {
     "data": {
      "text/plain": [
       "<AxesSubplot:xlabel='rta2_box_col', ylabel='rta2_box_dan'>"
      ]
     },
     "execution_count": 64,
     "metadata": {},
     "output_type": "execute_result"
    },
    {
     "data": {
      "image/png": "[encoded data removed]",
      "text/plain": [
       "<Figure size 720x720 with 2 Axes>"
      ]
     },
     "metadata": {
      "needs_background": "light"
     },
     "output_type": "display_data"
    }
   ],
   "source": [
    "fig=plt.figure(figsize=(10,10))\n",
    "sns.heatmap(df_pivot5, cmap='Blues')"
   ]
  },
  {
   "cell_type": "code",
   "execution_count": 65,
   "id": "dd42e7fa",
   "metadata": {
    "ExecuteTime": {
     "end_time": "2022-11-14T08:35:40.400037Z",
     "start_time": "2022-11-14T08:35:40.361583Z"
    }
   },
   "outputs": [],
   "source": [
    "df_pivot6=pd.pivot_table(df_rate, values='rate', index=['rta2_box_dan'], columns=['rta2_box_row'], fill_value=0)"
   ]
  },
  {
   "cell_type": "code",
   "execution_count": 66,
   "id": "3508425a",
   "metadata": {
    "ExecuteTime": {
     "end_time": "2022-11-14T08:35:42.367786Z",
     "start_time": "2022-11-14T08:35:41.454973Z"
    }
   },
   "outputs": [
    {
     "data": {
      "text/plain": [
       "<AxesSubplot:xlabel='rta2_box_row', ylabel='rta2_box_dan'>"
      ]
     },
     "execution_count": 66,
     "metadata": {},
     "output_type": "execute_result"
    },
    {
     "data": {
      "image/png": "[encoded data removed]",
      "text/plain": [
       "<Figure size 720x720 with 2 Axes>"
      ]
     },
     "metadata": {
      "needs_background": "light"
     },
     "output_type": "display_data"
    }
   ],
   "source": [
    "fig=plt.figure(figsize=(10,10))\n",
    "sns.heatmap(df_pivot6, cmap='Blues')"
   ]
  },
  {
   "cell_type": "code",
   "execution_count": null,
   "id": "2b18ce19",
   "metadata": {},
   "outputs": [],
   "source": []
  }
 ],
 "metadata": {
  "kernelspec": {
   "display_name": "Python 3 (ipykernel)",
   "language": "python",
   "name": "python3"
  },
  "language_info": {
   "codemirror_mode": {
    "name": "ipython",
    "version": 3
   },
   "file_extension": ".py",
   "mimetype": "text/x-python",
   "name": "python",
   "nbconvert_exporter": "python",
   "pygments_lexer": "ipython3",
   "version": "3.9.12"
  },
  "toc": {
   "base_numbering": 1,
   "nav_menu": {},
   "number_sections": true,
   "sideBar": true,
   "skip_h1_title": false,
   "title_cell": "Table of Contents",
   "title_sidebar": "Contents",
   "toc_cell": false,
   "toc_position": {},
   "toc_section_display": true,
   "toc_window_display": false
  }
 },
 "nbformat": 4,
 "nbformat_minor": 5
}
